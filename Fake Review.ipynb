{
 "cells": [
  {
   "cell_type": "markdown",
   "id": "67e3dc4b-0a51-46cd-af1f-be6a2242785b",
   "metadata": {},
   "source": [
    "### Business Understanding\n",
    "\n",
    "##### GOAL: To detect the Fake reviews"
   ]
  },
  {
   "cell_type": "markdown",
   "id": "4b3f7f07-b6d5-4fb4-9998-11c7f7ac1ba6",
   "metadata": {},
   "source": [
    "#### 0.Data Loading <a id=dc>\n",
    "Back to Top "
   ]
  },
  {
   "cell_type": "code",
   "execution_count": 6,
   "id": "941f4302-8cef-42f9-9d17-89c0ed48d5a1",
   "metadata": {},
   "outputs": [
    {
     "ename": "ModuleNotFoundError",
     "evalue": "No module named 'pandas'",
     "output_type": "error",
     "traceback": [
      "\u001b[1;31m---------------------------------------------------------------------------\u001b[0m",
      "\u001b[1;31mModuleNotFoundError\u001b[0m                       Traceback (most recent call last)",
      "Input \u001b[1;32mIn [6]\u001b[0m, in \u001b[0;36m<cell line: 2>\u001b[1;34m()\u001b[0m\n\u001b[0;32m      1\u001b[0m \u001b[38;5;66;03m#  Data manipulation Libraries\u001b[39;00m\n\u001b[1;32m----> 2\u001b[0m \u001b[38;5;28;01mimport\u001b[39;00m \u001b[38;5;21;01mpandas\u001b[39;00m \u001b[38;5;28;01mas\u001b[39;00m \u001b[38;5;21;01mpd\u001b[39;00m\n\u001b[0;32m      3\u001b[0m \u001b[38;5;28;01mimport\u001b[39;00m \u001b[38;5;21;01mnumpy\u001b[39;00m \u001b[38;5;28;01mas\u001b[39;00m \u001b[38;5;21;01mnp\u001b[39;00m\n\u001b[0;32m      4\u001b[0m \u001b[38;5;28;01mimport\u001b[39;00m \u001b[38;5;21;01mwarnings\u001b[39;00m\n",
      "\u001b[1;31mModuleNotFoundError\u001b[0m: No module named 'pandas'"
     ]
    }
   ],
   "source": [
    "#  Data manipulation Libraries\n",
    "import pandas as pd\n",
    "import numpy as np\n",
    "import warnings\n",
    "warnings.filterwarnings(\"ignore\")"
   ]
  },
  {
   "cell_type": "code",
   "execution_count": null,
   "id": "6a00ede7-1cb1-4467-8dcb-45f1174db1f2",
   "metadata": {},
   "outputs": [],
   "source": [
    "# loading the data\n",
    "data=pd.read_csv(r\"C:\\Users\\91905\\Downloads\\fake reviews dataset.csv\")"
   ]
  },
  {
   "cell_type": "code",
   "execution_count": null,
   "id": "744af566-16af-4a37-81fa-ad4237f8b8f3",
   "metadata": {},
   "outputs": [
    {
     "data": {
      "text/html": [
       "<div>\n",
       "<style scoped>\n",
       "    .dataframe tbody tr th:only-of-type {\n",
       "        vertical-align: middle;\n",
       "    }\n",
       "\n",
       "    .dataframe tbody tr th {\n",
       "        vertical-align: top;\n",
       "    }\n",
       "\n",
       "    .dataframe thead th {\n",
       "        text-align: right;\n",
       "    }\n",
       "</style>\n",
       "<table border=\"1\" class=\"dataframe\">\n",
       "  <thead>\n",
       "    <tr style=\"text-align: right;\">\n",
       "      <th></th>\n",
       "      <th>category</th>\n",
       "      <th>rating</th>\n",
       "      <th>label</th>\n",
       "      <th>text_</th>\n",
       "    </tr>\n",
       "  </thead>\n",
       "  <tbody>\n",
       "    <tr>\n",
       "      <th>0</th>\n",
       "      <td>Home_and_Kitchen_5</td>\n",
       "      <td>5.0</td>\n",
       "      <td>CG</td>\n",
       "      <td>Love this!  Well made, sturdy, and very comfor...</td>\n",
       "    </tr>\n",
       "    <tr>\n",
       "      <th>1</th>\n",
       "      <td>Home_and_Kitchen_5</td>\n",
       "      <td>5.0</td>\n",
       "      <td>CG</td>\n",
       "      <td>love it, a great upgrade from the original.  I...</td>\n",
       "    </tr>\n",
       "    <tr>\n",
       "      <th>2</th>\n",
       "      <td>Home_and_Kitchen_5</td>\n",
       "      <td>5.0</td>\n",
       "      <td>CG</td>\n",
       "      <td>This pillow saved my back. I love the look and...</td>\n",
       "    </tr>\n",
       "    <tr>\n",
       "      <th>3</th>\n",
       "      <td>Home_and_Kitchen_5</td>\n",
       "      <td>1.0</td>\n",
       "      <td>CG</td>\n",
       "      <td>Missing information on how to use it, but it i...</td>\n",
       "    </tr>\n",
       "    <tr>\n",
       "      <th>4</th>\n",
       "      <td>Home_and_Kitchen_5</td>\n",
       "      <td>5.0</td>\n",
       "      <td>CG</td>\n",
       "      <td>Very nice set. Good quality. We have had the s...</td>\n",
       "    </tr>\n",
       "    <tr>\n",
       "      <th>...</th>\n",
       "      <td>...</td>\n",
       "      <td>...</td>\n",
       "      <td>...</td>\n",
       "      <td>...</td>\n",
       "    </tr>\n",
       "    <tr>\n",
       "      <th>40427</th>\n",
       "      <td>Clothing_Shoes_and_Jewelry_5</td>\n",
       "      <td>4.0</td>\n",
       "      <td>OR</td>\n",
       "      <td>I had read some reviews saying that this bra r...</td>\n",
       "    </tr>\n",
       "    <tr>\n",
       "      <th>40428</th>\n",
       "      <td>Clothing_Shoes_and_Jewelry_5</td>\n",
       "      <td>5.0</td>\n",
       "      <td>CG</td>\n",
       "      <td>I wasn't sure exactly what it would be. It is ...</td>\n",
       "    </tr>\n",
       "    <tr>\n",
       "      <th>40429</th>\n",
       "      <td>Clothing_Shoes_and_Jewelry_5</td>\n",
       "      <td>2.0</td>\n",
       "      <td>OR</td>\n",
       "      <td>You can wear the hood by itself, wear it with ...</td>\n",
       "    </tr>\n",
       "    <tr>\n",
       "      <th>40430</th>\n",
       "      <td>Clothing_Shoes_and_Jewelry_5</td>\n",
       "      <td>1.0</td>\n",
       "      <td>CG</td>\n",
       "      <td>I liked nothing about this dress. The only rea...</td>\n",
       "    </tr>\n",
       "    <tr>\n",
       "      <th>40431</th>\n",
       "      <td>Clothing_Shoes_and_Jewelry_5</td>\n",
       "      <td>5.0</td>\n",
       "      <td>OR</td>\n",
       "      <td>I work in the wedding industry and have to wor...</td>\n",
       "    </tr>\n",
       "  </tbody>\n",
       "</table>\n",
       "<p>40432 rows × 4 columns</p>\n",
       "</div>"
      ],
      "text/plain": [
       "                           category  rating label  \\\n",
       "0                Home_and_Kitchen_5     5.0    CG   \n",
       "1                Home_and_Kitchen_5     5.0    CG   \n",
       "2                Home_and_Kitchen_5     5.0    CG   \n",
       "3                Home_and_Kitchen_5     1.0    CG   \n",
       "4                Home_and_Kitchen_5     5.0    CG   \n",
       "...                             ...     ...   ...   \n",
       "40427  Clothing_Shoes_and_Jewelry_5     4.0    OR   \n",
       "40428  Clothing_Shoes_and_Jewelry_5     5.0    CG   \n",
       "40429  Clothing_Shoes_and_Jewelry_5     2.0    OR   \n",
       "40430  Clothing_Shoes_and_Jewelry_5     1.0    CG   \n",
       "40431  Clothing_Shoes_and_Jewelry_5     5.0    OR   \n",
       "\n",
       "                                                   text_  \n",
       "0      Love this!  Well made, sturdy, and very comfor...  \n",
       "1      love it, a great upgrade from the original.  I...  \n",
       "2      This pillow saved my back. I love the look and...  \n",
       "3      Missing information on how to use it, but it i...  \n",
       "4      Very nice set. Good quality. We have had the s...  \n",
       "...                                                  ...  \n",
       "40427  I had read some reviews saying that this bra r...  \n",
       "40428  I wasn't sure exactly what it would be. It is ...  \n",
       "40429  You can wear the hood by itself, wear it with ...  \n",
       "40430  I liked nothing about this dress. The only rea...  \n",
       "40431  I work in the wedding industry and have to wor...  \n",
       "\n",
       "[40432 rows x 4 columns]"
      ]
     },
     "execution_count": 3,
     "metadata": {},
     "output_type": "execute_result"
    }
   ],
   "source": [
    "data"
   ]
  },
  {
   "cell_type": "markdown",
   "id": "6e5b71b8-cb83-49cb-a34d-a9e4d2f4bd02",
   "metadata": {},
   "source": [
    "This data set is containing 40432 rows and 4 columns"
   ]
  },
  {
   "cell_type": "markdown",
   "id": "03258345-4412-4d51-ba41-db1776984200",
   "metadata": {},
   "source": [
    "**Basic cheks of the data**"
   ]
  },
  {
   "cell_type": "code",
   "execution_count": null,
   "id": "ad4608d7-8665-4a9e-a45f-b4199611d0e6",
   "metadata": {},
   "outputs": [
    {
     "data": {
      "text/plain": [
       "'First five rows of Data:'"
      ]
     },
     "metadata": {},
     "output_type": "display_data"
    },
    {
     "data": {
      "text/html": [
       "<div>\n",
       "<style scoped>\n",
       "    .dataframe tbody tr th:only-of-type {\n",
       "        vertical-align: middle;\n",
       "    }\n",
       "\n",
       "    .dataframe tbody tr th {\n",
       "        vertical-align: top;\n",
       "    }\n",
       "\n",
       "    .dataframe thead th {\n",
       "        text-align: right;\n",
       "    }\n",
       "</style>\n",
       "<table border=\"1\" class=\"dataframe\">\n",
       "  <thead>\n",
       "    <tr style=\"text-align: right;\">\n",
       "      <th></th>\n",
       "      <th>category</th>\n",
       "      <th>rating</th>\n",
       "      <th>label</th>\n",
       "      <th>text_</th>\n",
       "    </tr>\n",
       "  </thead>\n",
       "  <tbody>\n",
       "    <tr>\n",
       "      <th>0</th>\n",
       "      <td>Home_and_Kitchen_5</td>\n",
       "      <td>5.0</td>\n",
       "      <td>CG</td>\n",
       "      <td>Love this!  Well made, sturdy, and very comfor...</td>\n",
       "    </tr>\n",
       "    <tr>\n",
       "      <th>1</th>\n",
       "      <td>Home_and_Kitchen_5</td>\n",
       "      <td>5.0</td>\n",
       "      <td>CG</td>\n",
       "      <td>love it, a great upgrade from the original.  I...</td>\n",
       "    </tr>\n",
       "    <tr>\n",
       "      <th>2</th>\n",
       "      <td>Home_and_Kitchen_5</td>\n",
       "      <td>5.0</td>\n",
       "      <td>CG</td>\n",
       "      <td>This pillow saved my back. I love the look and...</td>\n",
       "    </tr>\n",
       "    <tr>\n",
       "      <th>3</th>\n",
       "      <td>Home_and_Kitchen_5</td>\n",
       "      <td>1.0</td>\n",
       "      <td>CG</td>\n",
       "      <td>Missing information on how to use it, but it i...</td>\n",
       "    </tr>\n",
       "    <tr>\n",
       "      <th>4</th>\n",
       "      <td>Home_and_Kitchen_5</td>\n",
       "      <td>5.0</td>\n",
       "      <td>CG</td>\n",
       "      <td>Very nice set. Good quality. We have had the s...</td>\n",
       "    </tr>\n",
       "  </tbody>\n",
       "</table>\n",
       "</div>"
      ],
      "text/plain": [
       "             category  rating label  \\\n",
       "0  Home_and_Kitchen_5     5.0    CG   \n",
       "1  Home_and_Kitchen_5     5.0    CG   \n",
       "2  Home_and_Kitchen_5     5.0    CG   \n",
       "3  Home_and_Kitchen_5     1.0    CG   \n",
       "4  Home_and_Kitchen_5     5.0    CG   \n",
       "\n",
       "                                               text_  \n",
       "0  Love this!  Well made, sturdy, and very comfor...  \n",
       "1  love it, a great upgrade from the original.  I...  \n",
       "2  This pillow saved my back. I love the look and...  \n",
       "3  Missing information on how to use it, but it i...  \n",
       "4  Very nice set. Good quality. We have had the s...  "
      ]
     },
     "metadata": {},
     "output_type": "display_data"
    },
    {
     "name": "stdout",
     "output_type": "stream",
     "text": [
      "\n"
     ]
    },
    {
     "data": {
      "text/plain": [
       "'Last five rows of Data:'"
      ]
     },
     "metadata": {},
     "output_type": "display_data"
    },
    {
     "data": {
      "text/html": [
       "<div>\n",
       "<style scoped>\n",
       "    .dataframe tbody tr th:only-of-type {\n",
       "        vertical-align: middle;\n",
       "    }\n",
       "\n",
       "    .dataframe tbody tr th {\n",
       "        vertical-align: top;\n",
       "    }\n",
       "\n",
       "    .dataframe thead th {\n",
       "        text-align: right;\n",
       "    }\n",
       "</style>\n",
       "<table border=\"1\" class=\"dataframe\">\n",
       "  <thead>\n",
       "    <tr style=\"text-align: right;\">\n",
       "      <th></th>\n",
       "      <th>category</th>\n",
       "      <th>rating</th>\n",
       "      <th>label</th>\n",
       "      <th>text_</th>\n",
       "    </tr>\n",
       "  </thead>\n",
       "  <tbody>\n",
       "    <tr>\n",
       "      <th>40427</th>\n",
       "      <td>Clothing_Shoes_and_Jewelry_5</td>\n",
       "      <td>4.0</td>\n",
       "      <td>OR</td>\n",
       "      <td>I had read some reviews saying that this bra r...</td>\n",
       "    </tr>\n",
       "    <tr>\n",
       "      <th>40428</th>\n",
       "      <td>Clothing_Shoes_and_Jewelry_5</td>\n",
       "      <td>5.0</td>\n",
       "      <td>CG</td>\n",
       "      <td>I wasn't sure exactly what it would be. It is ...</td>\n",
       "    </tr>\n",
       "    <tr>\n",
       "      <th>40429</th>\n",
       "      <td>Clothing_Shoes_and_Jewelry_5</td>\n",
       "      <td>2.0</td>\n",
       "      <td>OR</td>\n",
       "      <td>You can wear the hood by itself, wear it with ...</td>\n",
       "    </tr>\n",
       "    <tr>\n",
       "      <th>40430</th>\n",
       "      <td>Clothing_Shoes_and_Jewelry_5</td>\n",
       "      <td>1.0</td>\n",
       "      <td>CG</td>\n",
       "      <td>I liked nothing about this dress. The only rea...</td>\n",
       "    </tr>\n",
       "    <tr>\n",
       "      <th>40431</th>\n",
       "      <td>Clothing_Shoes_and_Jewelry_5</td>\n",
       "      <td>5.0</td>\n",
       "      <td>OR</td>\n",
       "      <td>I work in the wedding industry and have to wor...</td>\n",
       "    </tr>\n",
       "  </tbody>\n",
       "</table>\n",
       "</div>"
      ],
      "text/plain": [
       "                           category  rating label  \\\n",
       "40427  Clothing_Shoes_and_Jewelry_5     4.0    OR   \n",
       "40428  Clothing_Shoes_and_Jewelry_5     5.0    CG   \n",
       "40429  Clothing_Shoes_and_Jewelry_5     2.0    OR   \n",
       "40430  Clothing_Shoes_and_Jewelry_5     1.0    CG   \n",
       "40431  Clothing_Shoes_and_Jewelry_5     5.0    OR   \n",
       "\n",
       "                                                   text_  \n",
       "40427  I had read some reviews saying that this bra r...  \n",
       "40428  I wasn't sure exactly what it would be. It is ...  \n",
       "40429  You can wear the hood by itself, wear it with ...  \n",
       "40430  I liked nothing about this dress. The only rea...  \n",
       "40431  I work in the wedding industry and have to wor...  "
      ]
     },
     "metadata": {},
     "output_type": "display_data"
    }
   ],
   "source": [
    "display(\"First five rows of Data:\",data.head())\n",
    "print()\n",
    "display(\"Last five rows of Data:\",data.tail())"
   ]
  },
  {
   "cell_type": "code",
   "execution_count": null,
   "id": "dd7f1ff3-7bcf-4e3a-9437-58eadbcfa81a",
   "metadata": {},
   "outputs": [
    {
     "data": {
      "text/plain": [
       "(40432, 4)"
      ]
     },
     "execution_count": 5,
     "metadata": {},
     "output_type": "execute_result"
    }
   ],
   "source": [
    "data.shape"
   ]
  },
  {
   "cell_type": "code",
   "execution_count": null,
   "id": "a393dc13-604c-4768-8011-87476447ff77",
   "metadata": {},
   "outputs": [
    {
     "name": "stdout",
     "output_type": "stream",
     "text": [
      "<class 'pandas.core.frame.DataFrame'>\n",
      "RangeIndex: 40432 entries, 0 to 40431\n",
      "Data columns (total 4 columns):\n",
      " #   Column    Non-Null Count  Dtype  \n",
      "---  ------    --------------  -----  \n",
      " 0   category  40432 non-null  object \n",
      " 1   rating    40432 non-null  float64\n",
      " 2   label     40432 non-null  object \n",
      " 3   text_     40432 non-null  object \n",
      "dtypes: float64(1), object(3)\n",
      "memory usage: 1.2+ MB\n"
     ]
    },
    {
     "data": {
      "text/plain": [
       "'Missing value and data types of each column:'"
      ]
     },
     "metadata": {},
     "output_type": "display_data"
    },
    {
     "data": {
      "text/plain": [
       "None"
      ]
     },
     "metadata": {},
     "output_type": "display_data"
    }
   ],
   "source": [
    "display(\"Missing value and data types of each column:\",data.info())"
   ]
  },
  {
   "cell_type": "code",
   "execution_count": null,
   "id": "b79e0570-7442-45c4-b2f5-b87c39888e32",
   "metadata": {},
   "outputs": [
    {
     "data": {
      "text/plain": [
       "'Missing value count:'"
      ]
     },
     "metadata": {},
     "output_type": "display_data"
    },
    {
     "data": {
      "text/plain": [
       "category    0\n",
       "rating      0\n",
       "label       0\n",
       "text_       0\n",
       "dtype: int64"
      ]
     },
     "metadata": {},
     "output_type": "display_data"
    }
   ],
   "source": [
    "display(\"Missing value count:\",data.isnull().sum())"
   ]
  },
  {
   "cell_type": "code",
   "execution_count": null,
   "id": "64294d24-21bd-425b-90cb-63effe77c292",
   "metadata": {},
   "outputs": [],
   "source": [
    "# converting object column data into lower case\n",
    "for i in data.select_dtypes(\"O\"):\n",
    "    data[i]=data[i].str.lower()"
   ]
  },
  {
   "cell_type": "code",
   "execution_count": null,
   "id": "fb3291e4-2360-4e8d-b458-75e1689cd453",
   "metadata": {},
   "outputs": [
    {
     "data": {
      "text/html": [
       "<div>\n",
       "<style scoped>\n",
       "    .dataframe tbody tr th:only-of-type {\n",
       "        vertical-align: middle;\n",
       "    }\n",
       "\n",
       "    .dataframe tbody tr th {\n",
       "        vertical-align: top;\n",
       "    }\n",
       "\n",
       "    .dataframe thead th {\n",
       "        text-align: right;\n",
       "    }\n",
       "</style>\n",
       "<table border=\"1\" class=\"dataframe\">\n",
       "  <thead>\n",
       "    <tr style=\"text-align: right;\">\n",
       "      <th></th>\n",
       "      <th>category</th>\n",
       "      <th>rating</th>\n",
       "      <th>label</th>\n",
       "      <th>text_</th>\n",
       "    </tr>\n",
       "  </thead>\n",
       "  <tbody>\n",
       "    <tr>\n",
       "      <th>6025</th>\n",
       "      <td>sports_and_outdoors_5</td>\n",
       "      <td>5.0</td>\n",
       "      <td>cg</td>\n",
       "      <td>this is a really good starter kit, with lots o...</td>\n",
       "    </tr>\n",
       "    <tr>\n",
       "      <th>6708</th>\n",
       "      <td>sports_and_outdoors_5</td>\n",
       "      <td>5.0</td>\n",
       "      <td>cg</td>\n",
       "      <td>great, no complaints. comfortable, phone fits ...</td>\n",
       "    </tr>\n",
       "    <tr>\n",
       "      <th>12548</th>\n",
       "      <td>movies_and_tv_5</td>\n",
       "      <td>5.0</td>\n",
       "      <td>cg</td>\n",
       "      <td>one of the best movies of the year.  not for e...</td>\n",
       "    </tr>\n",
       "    <tr>\n",
       "      <th>19802</th>\n",
       "      <td>pet_supplies_5</td>\n",
       "      <td>5.0</td>\n",
       "      <td>cg</td>\n",
       "      <td>my dog loves these and it has kept her occupie...</td>\n",
       "    </tr>\n",
       "    <tr>\n",
       "      <th>20242</th>\n",
       "      <td>pet_supplies_5</td>\n",
       "      <td>5.0</td>\n",
       "      <td>cg</td>\n",
       "      <td>my dog loves it and it has kept her occupied f...</td>\n",
       "    </tr>\n",
       "    <tr>\n",
       "      <th>22305</th>\n",
       "      <td>pet_supplies_5</td>\n",
       "      <td>5.0</td>\n",
       "      <td>or</td>\n",
       "      <td>got these to give to my 8 mth old chihuahua wh...</td>\n",
       "    </tr>\n",
       "    <tr>\n",
       "      <th>26444</th>\n",
       "      <td>kindle_store_5</td>\n",
       "      <td>5.0</td>\n",
       "      <td>cg</td>\n",
       "      <td>i received this story as an arc in exchange fo...</td>\n",
       "    </tr>\n",
       "    <tr>\n",
       "      <th>27233</th>\n",
       "      <td>kindle_store_5</td>\n",
       "      <td>5.0</td>\n",
       "      <td>cg</td>\n",
       "      <td>this is the first book in a series by the auth...</td>\n",
       "    </tr>\n",
       "    <tr>\n",
       "      <th>29203</th>\n",
       "      <td>books_5</td>\n",
       "      <td>5.0</td>\n",
       "      <td>cg</td>\n",
       "      <td>i really enjoyed this book. the characters wer...</td>\n",
       "    </tr>\n",
       "    <tr>\n",
       "      <th>33602</th>\n",
       "      <td>toys_and_games_5</td>\n",
       "      <td>5.0</td>\n",
       "      <td>cg</td>\n",
       "      <td>i got this for my son for christmas.  he loved...</td>\n",
       "    </tr>\n",
       "    <tr>\n",
       "      <th>34795</th>\n",
       "      <td>toys_and_games_5</td>\n",
       "      <td>5.0</td>\n",
       "      <td>cg</td>\n",
       "      <td>i bought this for my son for christmas.  he lo...</td>\n",
       "    </tr>\n",
       "    <tr>\n",
       "      <th>37543</th>\n",
       "      <td>clothing_shoes_and_jewelry_5</td>\n",
       "      <td>5.0</td>\n",
       "      <td>cg</td>\n",
       "      <td>i bought this for a halloween costume and it w...</td>\n",
       "    </tr>\n",
       "  </tbody>\n",
       "</table>\n",
       "</div>"
      ],
      "text/plain": [
       "                           category  rating label  \\\n",
       "6025          sports_and_outdoors_5     5.0    cg   \n",
       "6708          sports_and_outdoors_5     5.0    cg   \n",
       "12548               movies_and_tv_5     5.0    cg   \n",
       "19802                pet_supplies_5     5.0    cg   \n",
       "20242                pet_supplies_5     5.0    cg   \n",
       "22305                pet_supplies_5     5.0    or   \n",
       "26444                kindle_store_5     5.0    cg   \n",
       "27233                kindle_store_5     5.0    cg   \n",
       "29203                       books_5     5.0    cg   \n",
       "33602              toys_and_games_5     5.0    cg   \n",
       "34795              toys_and_games_5     5.0    cg   \n",
       "37543  clothing_shoes_and_jewelry_5     5.0    cg   \n",
       "\n",
       "                                                   text_  \n",
       "6025   this is a really good starter kit, with lots o...  \n",
       "6708   great, no complaints. comfortable, phone fits ...  \n",
       "12548  one of the best movies of the year.  not for e...  \n",
       "19802  my dog loves these and it has kept her occupie...  \n",
       "20242  my dog loves it and it has kept her occupied f...  \n",
       "22305  got these to give to my 8 mth old chihuahua wh...  \n",
       "26444  i received this story as an arc in exchange fo...  \n",
       "27233  this is the first book in a series by the auth...  \n",
       "29203  i really enjoyed this book. the characters wer...  \n",
       "33602  i got this for my son for christmas.  he loved...  \n",
       "34795  i bought this for my son for christmas.  he lo...  \n",
       "37543  i bought this for a halloween costume and it w...  "
      ]
     },
     "execution_count": 9,
     "metadata": {},
     "output_type": "execute_result"
    }
   ],
   "source": [
    "# duplicate rows checking\n",
    "data[data.duplicated()]"
   ]
  },
  {
   "cell_type": "code",
   "execution_count": null,
   "id": "0a69f366-942d-45a5-9f00-be0ab77f0450",
   "metadata": {},
   "outputs": [],
   "source": [
    "# dropping the duplicated rows\n",
    "data=data.drop_duplicates().reset_index(drop=True)"
   ]
  },
  {
   "cell_type": "code",
   "execution_count": null,
   "id": "69697036-a020-43a7-80e9-5021cbc4fba7",
   "metadata": {},
   "outputs": [
    {
     "data": {
      "text/html": [
       "<div>\n",
       "<style scoped>\n",
       "    .dataframe tbody tr th:only-of-type {\n",
       "        vertical-align: middle;\n",
       "    }\n",
       "\n",
       "    .dataframe tbody tr th {\n",
       "        vertical-align: top;\n",
       "    }\n",
       "\n",
       "    .dataframe thead th {\n",
       "        text-align: right;\n",
       "    }\n",
       "</style>\n",
       "<table border=\"1\" class=\"dataframe\">\n",
       "  <thead>\n",
       "    <tr style=\"text-align: right;\">\n",
       "      <th></th>\n",
       "      <th>category</th>\n",
       "      <th>rating</th>\n",
       "      <th>label</th>\n",
       "      <th>text_</th>\n",
       "    </tr>\n",
       "  </thead>\n",
       "  <tbody>\n",
       "  </tbody>\n",
       "</table>\n",
       "</div>"
      ],
      "text/plain": [
       "Empty DataFrame\n",
       "Columns: [category, rating, label, text_]\n",
       "Index: []"
      ]
     },
     "execution_count": 11,
     "metadata": {},
     "output_type": "execute_result"
    }
   ],
   "source": [
    "data[data.duplicated()]"
   ]
  },
  {
   "cell_type": "markdown",
   "id": "a0573ef8-42b1-4709-8921-4c371aada1a7",
   "metadata": {},
   "source": [
    "#### 1. Text cleaning"
   ]
  },
  {
   "cell_type": "markdown",
   "id": "d46d86b3-3e0c-412b-b6b6-48428b6e6b53",
   "metadata": {},
   "source": [
    "Removing punctuations and other special characters"
   ]
  },
  {
   "cell_type": "code",
   "execution_count": null,
   "id": "81380d34-1dd1-45a5-a794-3a650aa880ce",
   "metadata": {},
   "outputs": [
    {
     "data": {
      "text/plain": [
       "Index(['category', 'rating', 'label', 'text_'], dtype='object')"
      ]
     },
     "execution_count": 12,
     "metadata": {},
     "output_type": "execute_result"
    }
   ],
   "source": [
    "data.columns"
   ]
  },
  {
   "cell_type": "code",
   "execution_count": null,
   "id": "eb3f6b59-269c-45c7-9a98-6e6314626346",
   "metadata": {},
   "outputs": [],
   "source": [
    "# Renaming the column name\n",
    "data.rename({\"text_\":'text'},axis=1,inplace=True)"
   ]
  },
  {
   "cell_type": "code",
   "execution_count": null,
   "id": "8769d7cf-4abc-4384-83ed-ef0281cb89f5",
   "metadata": {},
   "outputs": [
    {
     "data": {
      "text/plain": [
       "Index(['category', 'rating', 'label', 'text'], dtype='object')"
      ]
     },
     "execution_count": 14,
     "metadata": {},
     "output_type": "execute_result"
    }
   ],
   "source": [
    "data.columns"
   ]
  },
  {
   "cell_type": "code",
   "execution_count": null,
   "id": "eacb0aef-408f-4dc5-ac51-001816fcf897",
   "metadata": {},
   "outputs": [
    {
     "data": {
      "text/plain": [
       "array(['home_and_kitchen_5', 'sports_and_outdoors_5', 'electronics_5',\n",
       "       'movies_and_tv_5', 'tools_and_home_improvement_5',\n",
       "       'pet_supplies_5', 'kindle_store_5', 'books_5', 'toys_and_games_5',\n",
       "       'clothing_shoes_and_jewelry_5'], dtype=object)"
      ]
     },
     "execution_count": 15,
     "metadata": {},
     "output_type": "execute_result"
    }
   ],
   "source": [
    "data.category.unique()"
   ]
  },
  {
   "cell_type": "code",
   "execution_count": null,
   "id": "876fac32-f20c-4e0c-9395-e5b02ada0376",
   "metadata": {},
   "outputs": [],
   "source": [
    "data.category=data.category.str.replace('_',\" \").str.strip('5')"
   ]
  },
  {
   "cell_type": "code",
   "execution_count": null,
   "id": "54cc290b-d26a-4d8f-a80e-e09c0c1752ad",
   "metadata": {},
   "outputs": [
    {
     "data": {
      "text/plain": [
       "array(['home and kitchen ', 'sports and outdoors ', 'electronics ',\n",
       "       'movies and tv ', 'tools and home improvement ', 'pet supplies ',\n",
       "       'kindle store ', 'books ', 'toys and games ',\n",
       "       'clothing shoes and jewelry '], dtype=object)"
      ]
     },
     "execution_count": 17,
     "metadata": {},
     "output_type": "execute_result"
    }
   ],
   "source": [
    "data.category.unique()"
   ]
  },
  {
   "cell_type": "code",
   "execution_count": null,
   "id": "7db37a33-fe43-46a0-abb5-4217db2d65a1",
   "metadata": {},
   "outputs": [
    {
     "data": {
      "text/plain": [
       "array([5., 1., 3., 2., 4.])"
      ]
     },
     "execution_count": 18,
     "metadata": {},
     "output_type": "execute_result"
    }
   ],
   "source": [
    "data.rating.unique()"
   ]
  },
  {
   "cell_type": "code",
   "execution_count": null,
   "id": "fe13efee-d0cc-49ce-b361-c4cc1759b4d0",
   "metadata": {},
   "outputs": [
    {
     "data": {
      "text/plain": [
       "array(['cg', 'or'], dtype=object)"
      ]
     },
     "execution_count": 19,
     "metadata": {},
     "output_type": "execute_result"
    }
   ],
   "source": [
    "data.label.unique()"
   ]
  },
  {
   "cell_type": "code",
   "execution_count": null,
   "id": "eafb6bf5-61f2-4d01-9bc4-e33a98410c19",
   "metadata": {},
   "outputs": [
    {
     "data": {
      "text/plain": [
       "array(['love this!  well made, sturdy, and very comfortable.  i love it!very pretty',\n",
       "       \"love it, a great upgrade from the original.  i've had mine for a couple of years\",\n",
       "       'this pillow saved my back. i love the look and feel of this pillow.',\n",
       "       ...,\n",
       "       'you can wear the hood by itself, wear it with the hood, or wear just the jacket without the hood.  how is that for 3-in-1 systems?\\n\\nreminiscent of what lands end sells as a \"squall jacket\", or what uniform and corporate wear sellers call a three season jacket.\\n\\nwater and wind resistant shell.  microfleece lined body.  smooth polyester lining in sleeves.  left hand side, napoleon style, inside pocket with a hook and loop closure.  adjustable sleeve cuffs.  hemline cinch cord with toggles.  molded plastic chain style, off brand, slide fastener.\\n\\npolyester insulation is spilling out due to poor quality stitching.  item was delivered with a broken main zipper.\\n\\ni can wear this jacket over just a t-shirt, and expect to stay warm @ 72 degrees fahrenheit, and no wind.\\n\\nif it was foggy, or there\\'s a light drizzle, i would have no problem depending on this jacket to go 300 - 500 feet in order to get to my car in the parking lot.\\n\\nbetter garments feature gore-tex, hippora, hyvent, dwr.....this jacket features no technology.  you\\'re just hoping that the polyester does not saturate as you\\'re trying to get where you\\'re going.  you will not be going for bike rides, checking your property\\'s fence line by horseback, riding a motorcycle, playing golf, pier fishing, lap dancing, picking strawberries, calling ducks, or anything else in the rain.\\n\\ni guess if you name your company, 32degrees weatherproof, the customer does not have a reasonable expectation that your garments will keep them dry & warm.\\n\\ngarment fits tight across the shoulders, back, chest, and arms.  go 1 size up if you intend on layering.\\n\\ni\\'ve purchased other items from this manufacturer, and frankly, this item was a let down.  it\\'s not warm enough when i need it to be warm.  i put on a few layers, and it is too tight.  i need to stay dry, and i\\'m sooooo wet.\\n\\nand to sell a jacket as a 3-in-1 systems jacket........it needs to really be a 3-in-1 systems jacket.  this jacket does not have a removeable liner!',\n",
       "       'i liked nothing about this dress. the only reason i gave it 4 stars is because i ordered the size 6.5 and it fit perfectly. the fabric is a nice thin material and the color is vibrant. it\\'s a little thin on me but it\\'s worth it. the material is soft and comfortable. i love the color and the fit. i\\'m 5\\'4\" and it fits just right. i\\'m a size 6 and it\\'s a bit long on me so i ordered a 6 in order to fit the smaller size. i\\'m 5\\'3\" and it fits perfect and i got it in a medium. it\\'s a nice dress and i\\'m very pleased with it. i like that it\\'s a bit small for me and i can wear it with a top or skirt. i also like that the fabric is made of a good material. i wear a size 5 and it fits well. i\\'m 5\\'3\" and it fits just right. i\\'m 5\\'6\" and it fits just right. i\\'m 5\\'4\" and it fits just right. i wear a size 10.5 and it\\'s a little tight on me. i have a small waist and it\\'s not too tight on me. it\\'s a nice little dress. i will buy more colors.very nice dress.  it is well made and it is very comfortable.  i received a free sample and will see if i can wear it again.  i would definitely buy another one.  i am very happy with this dress.i love these boots!  i have been wearing them for almost 8 months now and i love them so much that i purchased a second pair.  they are very comfortable and look great. ',\n",
       "       'i work in the wedding industry and have to work long days, on my feet, outside in the heat, and have to look professional. i\\'ve spent a ridiculous amount of money on high end dress shoes like merrels and just have not been able to find a pair that are comfortable to wear all day. both for my feet and my back. enter the sanuk yoga sling!!! these shoes are amazingly comfortable. though, i will admit it took a few wears to get used to the feel of the yoga matte bottom. at first, it felt a little \"sticky\" to me, and the fabric part that goes through the toe area was a little thick and took some getting used to. i wore them for a few days before taking them out on a job and i can\\'t get over how comfortable they are. ii have been wearing these shoes now for 3 months, every work day and i am thrilled. no more back pain, no more sore feet. i also wear these sometimes during my off time,mans every time i wear them, i get compliments on how cute and comfortable they look. the great thing about these shoes is the yoga matte bottom. it helps your feet grip to the shoe a bit, so your foot can just walk normally, without having to grip the shoe. you may not realize it, but with a lot of sandals, your foot is having to work to keep the shoe on, changing the way you walk and stand and ultimately causing foot and back pain. not with these! also, the soft linen sits comfortably on your skin and breathes nicely in the heat. the only downside is the funky tan lines, which is why i am sure to alternate shoes on my days off, especially if i plan to be outside for most of the day. if it were not for that, i think these might be the only shoes i\\'d wear all summer. if you are looking for a reasonable priced, comfortable shoe that you can wear and walk in all day.'],\n",
       "      dtype=object)"
      ]
     },
     "execution_count": 20,
     "metadata": {},
     "output_type": "execute_result"
    }
   ],
   "source": [
    "data.text.unique()"
   ]
  },
  {
   "cell_type": "code",
   "execution_count": null,
   "id": "fdc43a80-f6c6-44ef-89a0-d9385989532f",
   "metadata": {},
   "outputs": [],
   "source": [
    "import re\n",
    "import nltk"
   ]
  },
  {
   "cell_type": "code",
   "execution_count": null,
   "id": "bef210d3-9205-4873-b5dc-8a527188f2c6",
   "metadata": {},
   "outputs": [],
   "source": [
    "text_cleaning_pattern= \"@\\S+|https?:\\S+|http?:\\S|[^A-Za-z0-9]+\""
   ]
  },
  {
   "cell_type": "code",
   "execution_count": null,
   "id": "f522044c-96af-47e3-a356-0b79412a75c8",
   "metadata": {},
   "outputs": [],
   "source": [
    "data['text']=data['text'].apply((lambda x:re.sub(text_cleaning_pattern,' ',x)))"
   ]
  },
  {
   "cell_type": "code",
   "execution_count": null,
   "id": "39ff2c1a-be21-489e-9709-779df9ed0fee",
   "metadata": {},
   "outputs": [
    {
     "data": {
      "text/plain": [
       "'they are the perfect touch for me and the only thing i wish they had a little more space '"
      ]
     },
     "execution_count": 24,
     "metadata": {},
     "output_type": "execute_result"
    }
   ],
   "source": [
    "data.text[6]"
   ]
  },
  {
   "cell_type": "markdown",
   "id": "5b7dc09b-7402-4811-a2a3-bd06e8f13bc5",
   "metadata": {},
   "source": [
    "#### 2.Text Preprocessing for Modelling"
   ]
  },
  {
   "cell_type": "markdown",
   "id": "3b3e31d0-702c-4d5c-a403-214b0dca5b73",
   "metadata": {},
   "source": [
    "* **Tokenization**"
   ]
  },
  {
   "cell_type": "code",
   "execution_count": null,
   "id": "c1fb690b-584f-4775-9355-c2c4ca816848",
   "metadata": {},
   "outputs": [],
   "source": [
    "from keras.preprocessing.text import Tokenizer\n",
    "from tensorflow.keras.preprocessing.sequence import pad_sequences"
   ]
  },
  {
   "cell_type": "code",
   "execution_count": null,
   "id": "6175269a-e5f0-4dfc-b9a2-78bc7c5486da",
   "metadata": {},
   "outputs": [],
   "source": [
    "tokenizer=Tokenizer()\n",
    "tokenizer.fit_on_texts(data['text'])\n",
    "X=tokenizer.texts_to_sequences(data['text'])"
   ]
  },
  {
   "cell_type": "code",
   "execution_count": null,
   "id": "73b08e62-ec89-4dd4-b2db-e957e21a2cb0",
   "metadata": {},
   "outputs": [
    {
     "data": {
      "text/plain": [
       "{'the': 1,\n",
       " 'i': 2,\n",
       " 'a': 3,\n",
       " 'and': 4,\n",
       " 'it': 5,\n",
       " 'to': 6,\n",
       " 'is': 7,\n",
       " 'this': 8,\n",
       " 'of': 9,\n",
       " 'for': 10,\n",
       " 'in': 11,\n",
       " 'that': 12,\n",
       " 'was': 13,\n",
       " 'my': 14,\n",
       " 'with': 15,\n",
       " 'have': 16,\n",
       " 'very': 17,\n",
       " 'but': 18,\n",
       " 's': 19,\n",
       " 'not': 20,\n",
       " 'are': 21,\n",
       " 'great': 22,\n",
       " 'on': 23,\n",
       " 'you': 24,\n",
       " 'book': 25,\n",
       " 't': 26,\n",
       " 'good': 27,\n",
       " 'one': 28,\n",
       " 'they': 29,\n",
       " 'as': 30,\n",
       " 'so': 31,\n",
       " 'be': 32,\n",
       " 'love': 33,\n",
       " 'well': 34,\n",
       " 'had': 35,\n",
       " 'will': 36,\n",
       " 'would': 37,\n",
       " 'story': 38,\n",
       " 'like': 39,\n",
       " 'read': 40,\n",
       " 'just': 41,\n",
       " 'has': 42,\n",
       " 'these': 43,\n",
       " 'he': 44,\n",
       " 'she': 45,\n",
       " 'them': 46,\n",
       " 'can': 47,\n",
       " 'if': 48,\n",
       " 'little': 49,\n",
       " 'an': 50,\n",
       " 'all': 51,\n",
       " 'more': 52,\n",
       " 'about': 53,\n",
       " 'only': 54,\n",
       " 'her': 55,\n",
       " 'get': 56,\n",
       " 'from': 57,\n",
       " 'recommend': 58,\n",
       " 'up': 59,\n",
       " 'characters': 60,\n",
       " 'really': 61,\n",
       " 'at': 62,\n",
       " 'am': 63,\n",
       " 'who': 64,\n",
       " 'use': 65,\n",
       " 'out': 66,\n",
       " 'or': 67,\n",
       " 'bought': 68,\n",
       " 'also': 69,\n",
       " 'movie': 70,\n",
       " 'too': 71,\n",
       " 'we': 72,\n",
       " 'm': 73,\n",
       " 'nice': 74,\n",
       " 'me': 75,\n",
       " 'time': 76,\n",
       " 'small': 77,\n",
       " 'when': 78,\n",
       " 'easy': 79,\n",
       " 'what': 80,\n",
       " 'there': 81,\n",
       " 'other': 82,\n",
       " 'product': 83,\n",
       " 'than': 84,\n",
       " 'were': 85,\n",
       " 'loves': 86,\n",
       " 'size': 87,\n",
       " 'by': 88,\n",
       " 'quality': 89,\n",
       " 'been': 90,\n",
       " 'how': 91,\n",
       " 'bit': 92,\n",
       " 'no': 93,\n",
       " 'first': 94,\n",
       " 'his': 95,\n",
       " 'lot': 96,\n",
       " 'made': 97,\n",
       " 'series': 98,\n",
       " 'don': 99,\n",
       " 'because': 100,\n",
       " 'two': 101,\n",
       " 'some': 102,\n",
       " 'used': 103,\n",
       " 'much': 104,\n",
       " 'do': 105,\n",
       " 'way': 106,\n",
       " 'fit': 107,\n",
       " 've': 108,\n",
       " 'works': 109,\n",
       " 'which': 110,\n",
       " 'price': 111,\n",
       " 'now': 112,\n",
       " 'loved': 113,\n",
       " 'work': 114,\n",
       " 'put': 115,\n",
       " 'dog': 116,\n",
       " 'your': 117,\n",
       " 'still': 118,\n",
       " 'light': 119,\n",
       " 'does': 120,\n",
       " 'did': 121,\n",
       " 'perfect': 122,\n",
       " 'old': 123,\n",
       " 'long': 124,\n",
       " 'anyone': 125,\n",
       " 'few': 126,\n",
       " 'comfortable': 127,\n",
       " 'see': 128,\n",
       " 'author': 129,\n",
       " 'enjoyed': 130,\n",
       " 'think': 131,\n",
       " 'happy': 132,\n",
       " 'keep': 133,\n",
       " 'off': 134,\n",
       " '5': 135,\n",
       " 'any': 136,\n",
       " 'make': 137,\n",
       " '2': 138,\n",
       " 'their': 139,\n",
       " 'after': 140,\n",
       " 'into': 141,\n",
       " 'reading': 142,\n",
       " 'looking': 143,\n",
       " 'best': 144,\n",
       " 'set': 145,\n",
       " 'got': 146,\n",
       " 'buy': 147,\n",
       " 'plastic': 148,\n",
       " 'again': 149,\n",
       " 'didn': 150,\n",
       " 'go': 151,\n",
       " 'better': 152,\n",
       " 'next': 153,\n",
       " 'year': 154,\n",
       " 'pretty': 155,\n",
       " 'him': 156,\n",
       " 'liked': 157,\n",
       " 'back': 158,\n",
       " 'want': 159,\n",
       " 'review': 160,\n",
       " 'even': 161,\n",
       " 'books': 162,\n",
       " 'could': 163,\n",
       " 'hard': 164,\n",
       " 'look': 165,\n",
       " 'thing': 166,\n",
       " 'know': 167,\n",
       " 'sure': 168,\n",
       " 'enough': 169,\n",
       " 'using': 170,\n",
       " 'large': 171,\n",
       " 'years': 172,\n",
       " '4': 173,\n",
       " 'over': 174,\n",
       " 'then': 175,\n",
       " 'problem': 176,\n",
       " 'most': 177,\n",
       " 'going': 178,\n",
       " 'fun': 179,\n",
       " 'new': 180,\n",
       " 'big': 181,\n",
       " 'definitely': 182,\n",
       " '3': 183,\n",
       " 'down': 184,\n",
       " 'son': 185,\n",
       " 'written': 186,\n",
       " 'our': 187,\n",
       " 'say': 188,\n",
       " 'find': 189,\n",
       " 'last': 190,\n",
       " 'feel': 191,\n",
       " 'strong': 192,\n",
       " 'another': 193,\n",
       " 'fan': 194,\n",
       " 'couple': 195,\n",
       " 'around': 196,\n",
       " 'thought': 197,\n",
       " 'need': 198,\n",
       " 'different': 199,\n",
       " 'while': 200,\n",
       " 'many': 201,\n",
       " 'highly': 202,\n",
       " 'top': 203,\n",
       " 'same': 204,\n",
       " 'toy': 205,\n",
       " 'people': 206,\n",
       " 'found': 207,\n",
       " 'interesting': 208,\n",
       " 'doesn': 209,\n",
       " 'right': 210,\n",
       " 'wear': 211,\n",
       " 'sturdy': 212,\n",
       " 're': 213,\n",
       " 'received': 214,\n",
       " 'its': 215,\n",
       " 'part': 216,\n",
       " 'wish': 217,\n",
       " 'ordered': 218,\n",
       " 'life': 219,\n",
       " 'daughter': 220,\n",
       " 'both': 221,\n",
       " 'purchase': 222,\n",
       " 'excellent': 223,\n",
       " 'color': 224,\n",
       " 'through': 225,\n",
       " 'day': 226,\n",
       " 'fact': 227,\n",
       " 'never': 228,\n",
       " 'stars': 229,\n",
       " 'take': 230,\n",
       " 'film': 231,\n",
       " 'before': 232,\n",
       " 'acting': 233,\n",
       " 'bag': 234,\n",
       " 'play': 235,\n",
       " 'replace': 236,\n",
       " 'case': 237,\n",
       " 'reason': 238,\n",
       " '1': 239,\n",
       " 'ending': 240,\n",
       " 'wait': 241,\n",
       " 'things': 242,\n",
       " 'developed': 243,\n",
       " 'box': 244,\n",
       " 'fits': 245,\n",
       " 'looks': 246,\n",
       " 'water': 247,\n",
       " 'since': 248,\n",
       " 'll': 249,\n",
       " 'pieces': 250,\n",
       " 'perfectly': 251,\n",
       " 'able': 252,\n",
       " 'material': 253,\n",
       " 'watch': 254,\n",
       " 'every': 255,\n",
       " 'give': 256,\n",
       " 'being': 257,\n",
       " 'wanted': 258,\n",
       " 'purchased': 259,\n",
       " 'together': 260,\n",
       " 'worth': 261,\n",
       " 'bad': 262,\n",
       " 'times': 263,\n",
       " 'makes': 264,\n",
       " 'end': 265,\n",
       " 'd': 266,\n",
       " 'honest': 267,\n",
       " 'dogs': 268,\n",
       " 'should': 269,\n",
       " 'second': 270,\n",
       " 'seems': 271,\n",
       " 'sound': 272,\n",
       " 'soft': 273,\n",
       " 'ever': 274,\n",
       " 'food': 275,\n",
       " 'where': 276,\n",
       " 'family': 277,\n",
       " 'always': 278,\n",
       " 'fine': 279,\n",
       " 'bright': 280,\n",
       " 'pair': 281,\n",
       " 'forward': 282,\n",
       " 'hold': 283,\n",
       " 'each': 284,\n",
       " 'friend': 285,\n",
       " 'months': 286,\n",
       " 'kids': 287,\n",
       " 'short': 288,\n",
       " 'something': 289,\n",
       " 'plot': 290,\n",
       " 'money': 291,\n",
       " 'pleased': 292,\n",
       " 'line': 293,\n",
       " 'real': 294,\n",
       " 'cat': 295,\n",
       " 'though': 296,\n",
       " 'job': 297,\n",
       " 'game': 298,\n",
       " 'without': 299,\n",
       " 'getting': 300,\n",
       " 'told': 301,\n",
       " 'comes': 302,\n",
       " 'cute': 303,\n",
       " 'man': 304,\n",
       " 'come': 305,\n",
       " 'clean': 306,\n",
       " 'must': 307,\n",
       " 'gave': 308,\n",
       " 'far': 309,\n",
       " 'ones': 310,\n",
       " 'solid': 311,\n",
       " 'own': 312,\n",
       " 'wide': 313,\n",
       " '10': 314,\n",
       " 'gift': 315,\n",
       " 'house': 316,\n",
       " '6': 317,\n",
       " 'however': 318,\n",
       " 'those': 319,\n",
       " 'saw': 320,\n",
       " 'expected': 321,\n",
       " 'came': 322,\n",
       " 'action': 323,\n",
       " 'world': 324,\n",
       " 'issues': 325,\n",
       " 'several': 326,\n",
       " 'character': 327,\n",
       " 'place': 328,\n",
       " 'why': 329,\n",
       " 'quite': 330,\n",
       " 'room': 331,\n",
       " 'between': 332,\n",
       " 'shoes': 333,\n",
       " 'smaller': 334,\n",
       " 'cover': 335,\n",
       " 'tried': 336,\n",
       " 'worked': 337,\n",
       " 'exchange': 338,\n",
       " 'glad': 339,\n",
       " 'beautiful': 340,\n",
       " 'writing': 341,\n",
       " 'disappointed': 342,\n",
       " 'order': 343,\n",
       " 'yet': 344,\n",
       " 'kept': 345,\n",
       " 'amazing': 346,\n",
       " 'item': 347,\n",
       " 'needed': 348,\n",
       " 'side': 349,\n",
       " 'try': 350,\n",
       " 'thin': 351,\n",
       " 'young': 352,\n",
       " 'high': 353,\n",
       " 'woman': 354,\n",
       " 'enjoy': 355,\n",
       " 'full': 356,\n",
       " 'amazon': 357,\n",
       " 'favorite': 358,\n",
       " 'free': 359,\n",
       " 'once': 360,\n",
       " 'easily': 361,\n",
       " 'problems': 362,\n",
       " 'show': 363,\n",
       " 'buying': 364,\n",
       " 'working': 365,\n",
       " 'difficult': 366,\n",
       " 'tight': 367,\n",
       " 'actually': 368,\n",
       " 'deal': 369,\n",
       " 'days': 370,\n",
       " 'away': 371,\n",
       " 'having': 372,\n",
       " 'tool': 373,\n",
       " 'overall': 374,\n",
       " 'main': 375,\n",
       " 'done': 376,\n",
       " 'value': 377,\n",
       " 'christmas': 378,\n",
       " 'head': 379,\n",
       " 'design': 380,\n",
       " 'home': 381,\n",
       " 'us': 382,\n",
       " 'awesome': 383,\n",
       " 'absolutely': 384,\n",
       " '8': 385,\n",
       " 'probably': 386,\n",
       " 'battery': 387,\n",
       " 'cats': 388,\n",
       " 'huge': 389,\n",
       " 'may': 390,\n",
       " 'handle': 391,\n",
       " 'camera': 392,\n",
       " 'husband': 393,\n",
       " 'kind': 394,\n",
       " 'heavy': 395,\n",
       " 'front': 396,\n",
       " 'three': 397,\n",
       " 'history': 398,\n",
       " 'hot': 399,\n",
       " 'turn': 400,\n",
       " 'bottom': 401,\n",
       " 'couldn': 402,\n",
       " 'everything': 403,\n",
       " 'extra': 404,\n",
       " 'such': 405,\n",
       " 'fast': 406,\n",
       " 'reviews': 407,\n",
       " 'said': 408,\n",
       " 'colors': 409,\n",
       " 'larger': 410,\n",
       " 'night': 411,\n",
       " 'took': 412,\n",
       " 'parts': 413,\n",
       " 'help': 414,\n",
       " 'takes': 415,\n",
       " 'clear': 416,\n",
       " 'anything': 417,\n",
       " 'seen': 418,\n",
       " 'here': 419,\n",
       " 'tv': 420,\n",
       " 'movies': 421,\n",
       " 'others': 422,\n",
       " 'less': 423,\n",
       " 'likes': 424,\n",
       " 'update': 425,\n",
       " 'piece': 426,\n",
       " 'hope': 427,\n",
       " 'picture': 428,\n",
       " 'won': 429,\n",
       " 'wonderful': 430,\n",
       " 'super': 431,\n",
       " 'almost': 432,\n",
       " 'gets': 433,\n",
       " 'weight': 434,\n",
       " 'idea': 435,\n",
       " 'open': 436,\n",
       " 'romance': 437,\n",
       " 'addition': 438,\n",
       " 'girl': 439,\n",
       " 'longer': 440,\n",
       " 'whole': 441,\n",
       " 'durable': 442,\n",
       " 'simple': 443,\n",
       " 'hand': 444,\n",
       " 'person': 445,\n",
       " 'quick': 446,\n",
       " 'might': 447,\n",
       " 'blade': 448,\n",
       " 'stories': 449,\n",
       " 'especially': 450,\n",
       " 'seem': 451,\n",
       " 'itself': 452,\n",
       " 'start': 453,\n",
       " 'knife': 454,\n",
       " 'wasn': 455,\n",
       " 'car': 456,\n",
       " 'felt': 457,\n",
       " 'needs': 458,\n",
       " 'style': 459,\n",
       " 'past': 460,\n",
       " 'cheap': 461,\n",
       " 'change': 462,\n",
       " 'mystery': 463,\n",
       " 'bulb': 464,\n",
       " 'point': 465,\n",
       " 'wife': 466,\n",
       " 'original': 467,\n",
       " 'myself': 468,\n",
       " 'power': 469,\n",
       " 'version': 470,\n",
       " 'haven': 471,\n",
       " 'instructions': 472,\n",
       " 'trying': 473,\n",
       " 'nothing': 474,\n",
       " 'copy': 475,\n",
       " 'unit': 476,\n",
       " 'until': 477,\n",
       " 'kitchen': 478,\n",
       " 'install': 479,\n",
       " 'holds': 480,\n",
       " 'type': 481,\n",
       " 'hours': 482,\n",
       " 'exactly': 483,\n",
       " 'month': 484,\n",
       " 'funny': 485,\n",
       " 'star': 486,\n",
       " 'ok': 487,\n",
       " 'phone': 488,\n",
       " 'let': 489,\n",
       " 'store': 490,\n",
       " 'excited': 491,\n",
       " 'shoe': 492,\n",
       " 'thick': 493,\n",
       " 'video': 494,\n",
       " 'half': 495,\n",
       " 'class': 496,\n",
       " 'dvd': 497,\n",
       " 'feet': 498,\n",
       " 'cable': 499,\n",
       " 'materials': 500,\n",
       " 'bed': 501,\n",
       " 'given': 502,\n",
       " 'white': 503,\n",
       " 'went': 504,\n",
       " 'isn': 505,\n",
       " 'black': 506,\n",
       " 'carry': 507,\n",
       " 'inside': 508,\n",
       " 'left': 509,\n",
       " 'under': 510,\n",
       " '7': 511,\n",
       " 'novel': 512,\n",
       " 'drive': 513,\n",
       " 'guy': 514,\n",
       " 'music': 515,\n",
       " 'slow': 516,\n",
       " 'true': 517,\n",
       " 'run': 518,\n",
       " 'tell': 519,\n",
       " 'child': 520,\n",
       " 'interested': 521,\n",
       " 'expensive': 522,\n",
       " 'everyone': 523,\n",
       " 'wants': 524,\n",
       " 'already': 525,\n",
       " 'goes': 526,\n",
       " 'medium': 527,\n",
       " 'arrived': 528,\n",
       " 'collection': 529,\n",
       " 'special': 530,\n",
       " 'weeks': 531,\n",
       " 'started': 532,\n",
       " 'finish': 533,\n",
       " 'stuff': 534,\n",
       " 'cut': 535,\n",
       " 'keeps': 536,\n",
       " 'quickly': 537,\n",
       " '9': 538,\n",
       " 'making': 539,\n",
       " 'lights': 540,\n",
       " 'lens': 541,\n",
       " 'reader': 542,\n",
       " 'sweet': 543,\n",
       " 'heart': 544,\n",
       " 'lots': 545,\n",
       " 'wearing': 546,\n",
       " 'issue': 547,\n",
       " 'entertaining': 548,\n",
       " 'ago': 549,\n",
       " 'foot': 550,\n",
       " 'hands': 551,\n",
       " 'although': 552,\n",
       " 'mind': 553,\n",
       " 'door': 554,\n",
       " 'dress': 555,\n",
       " 'understand': 556,\n",
       " 'lives': 557,\n",
       " 'older': 558,\n",
       " 'friends': 559,\n",
       " 'broken': 560,\n",
       " 'maybe': 561,\n",
       " 'third': 562,\n",
       " 'warm': 563,\n",
       " 'screen': 564,\n",
       " 'beginning': 565,\n",
       " 'along': 566,\n",
       " 'stay': 567,\n",
       " 'return': 568,\n",
       " 'instead': 569,\n",
       " 'low': 570,\n",
       " 'cup': 571,\n",
       " 'replacement': 572,\n",
       " 'admit': 573,\n",
       " 'doing': 574,\n",
       " 'believable': 575,\n",
       " 'cool': 576,\n",
       " 'brand': 577,\n",
       " 'children': 578,\n",
       " 'wrong': 579,\n",
       " 'middle': 580,\n",
       " 'decided': 581,\n",
       " 'minutes': 582,\n",
       " 'feels': 583,\n",
       " 'loose': 584,\n",
       " 'watching': 585,\n",
       " 'shirt': 586,\n",
       " 'close': 587,\n",
       " 'space': 588,\n",
       " 'finally': 589,\n",
       " 'ring': 590,\n",
       " 'lost': 591,\n",
       " 'usb': 592,\n",
       " 'coffee': 593,\n",
       " 'someone': 594,\n",
       " 'else': 595,\n",
       " 'computer': 596,\n",
       " 'pack': 597,\n",
       " 'least': 598,\n",
       " 'playing': 599,\n",
       " 'batteries': 600,\n",
       " 'add': 601,\n",
       " 'area': 602,\n",
       " 'dark': 603,\n",
       " 'screw': 604,\n",
       " 'litter': 605,\n",
       " 'bike': 606,\n",
       " 'cold': 607,\n",
       " 'link': 608,\n",
       " 'learn': 609,\n",
       " 'metal': 610,\n",
       " 'happens': 611,\n",
       " 'rather': 612,\n",
       " 'seemed': 613,\n",
       " 'built': 614,\n",
       " 'week': 615,\n",
       " 'future': 616,\n",
       " 'easier': 617,\n",
       " 'usually': 618,\n",
       " 'bigger': 619,\n",
       " 'move': 620,\n",
       " 'believe': 621,\n",
       " 'stand': 622,\n",
       " 'impressed': 623,\n",
       " 'war': 624,\n",
       " 'either': 625,\n",
       " 'care': 626,\n",
       " 'pocket': 627,\n",
       " 'puppy': 628,\n",
       " 'ended': 629,\n",
       " 'regular': 630,\n",
       " 'turns': 631,\n",
       " 'toys': 632,\n",
       " 'often': 633,\n",
       " 'expect': 634,\n",
       " 'tools': 635,\n",
       " 'rest': 636,\n",
       " 'figure': 637,\n",
       " 'etc': 638,\n",
       " 'says': 639,\n",
       " 'switch': 640,\n",
       " 'running': 641,\n",
       " 'baby': 642,\n",
       " 'during': 643,\n",
       " 'wall': 644,\n",
       " 'father': 645,\n",
       " 'four': 646,\n",
       " 'relationship': 647,\n",
       " 'name': 648,\n",
       " 'normal': 649,\n",
       " 'lid': 650,\n",
       " 'sharp': 651,\n",
       " 'eat': 652,\n",
       " 'follow': 653,\n",
       " 'installed': 654,\n",
       " 'length': 655,\n",
       " 'fabric': 656,\n",
       " 'amount': 657,\n",
       " 'live': 658,\n",
       " 'scenes': 659,\n",
       " 'surprised': 660,\n",
       " 'okay': 661,\n",
       " 'model': 662,\n",
       " 'guess': 663,\n",
       " 'adjustable': 664,\n",
       " 'led': 665,\n",
       " 'setting': 666,\n",
       " 'control': 667,\n",
       " 'effects': 668,\n",
       " 'ear': 669,\n",
       " 'button': 670,\n",
       " 'break': 671,\n",
       " 'nicely': 672,\n",
       " 'products': 673,\n",
       " 'pull': 674,\n",
       " 'uses': 675,\n",
       " 'shows': 676,\n",
       " 'birthday': 677,\n",
       " '20': 678,\n",
       " 'hit': 679,\n",
       " 'held': 680,\n",
       " 'town': 681,\n",
       " 'support': 682,\n",
       " 'collar': 683,\n",
       " 'predictable': 684,\n",
       " 'ipad': 685,\n",
       " 'sometimes': 686,\n",
       " 'women': 687,\n",
       " 'shape': 688,\n",
       " 'season': 689,\n",
       " 'company': 690,\n",
       " 'system': 691,\n",
       " 'mine': 692,\n",
       " 'air': 693,\n",
       " 'plays': 694,\n",
       " 'device': 695,\n",
       " 'single': 696,\n",
       " 'wouldn': 697,\n",
       " 'fall': 698,\n",
       " 'included': 699,\n",
       " 'dry': 700,\n",
       " 'kit': 701,\n",
       " 'watched': 702,\n",
       " 'fantastic': 703,\n",
       " 'recommended': 704,\n",
       " 'entire': 705,\n",
       " 'strap': 706,\n",
       " 'course': 707,\n",
       " 'leave': 708,\n",
       " 'plus': 709,\n",
       " 'gun': 710,\n",
       " 'hoping': 711,\n",
       " 'storyline': 712,\n",
       " 'information': 713,\n",
       " 'ball': 714,\n",
       " 'yes': 715,\n",
       " 'treats': 716,\n",
       " 'gives': 717,\n",
       " '12': 718,\n",
       " 'enjoyable': 719,\n",
       " 'broke': 720,\n",
       " 'outside': 721,\n",
       " 'self': 722,\n",
       " 'floor': 723,\n",
       " 'enjoys': 724,\n",
       " 'similar': 725,\n",
       " 'laptop': 726,\n",
       " 'charge': 727,\n",
       " 'edge': 728,\n",
       " 'hook': 729,\n",
       " 'completely': 730,\n",
       " 'feature': 731,\n",
       " 'shipping': 732,\n",
       " 'thinking': 733,\n",
       " 'extremely': 734,\n",
       " 'important': 735,\n",
       " 'blue': 736,\n",
       " 'based': 737,\n",
       " 'cost': 738,\n",
       " 'touch': 739,\n",
       " 'standard': 740,\n",
       " 'smell': 741,\n",
       " 'grip': 742,\n",
       " 'cannot': 743,\n",
       " 'treat': 744,\n",
       " 'bathroom': 745,\n",
       " 'soon': 746,\n",
       " 'experience': 747,\n",
       " 'mother': 748,\n",
       " 'giving': 749,\n",
       " 'become': 750,\n",
       " 'heroine': 751,\n",
       " 'level': 752,\n",
       " 'school': 753,\n",
       " 'designed': 754,\n",
       " 'seat': 755,\n",
       " 'notch': 756,\n",
       " 'compact': 757,\n",
       " 'speaker': 758,\n",
       " 'mount': 759,\n",
       " 'tall': 760,\n",
       " 'interest': 761,\n",
       " '30': 762,\n",
       " 'coming': 763,\n",
       " 'living': 764,\n",
       " 'complaint': 765,\n",
       " 'keyboard': 766,\n",
       " 'items': 767,\n",
       " 'twists': 768,\n",
       " 'boy': 769,\n",
       " 'taking': 770,\n",
       " 'keeping': 771,\n",
       " '15': 772,\n",
       " 'purchasing': 773,\n",
       " 'slightly': 774,\n",
       " 'replaced': 775,\n",
       " 'bulbs': 776,\n",
       " 'kid': 777,\n",
       " 'putting': 778,\n",
       " 'filter': 779,\n",
       " 'bottle': 780,\n",
       " 'pictures': 781,\n",
       " 'pain': 782,\n",
       " 'lightweight': 783,\n",
       " 'harness': 784,\n",
       " 'stick': 785,\n",
       " 'downside': 786,\n",
       " 'sense': 787,\n",
       " 'range': 788,\n",
       " 'suspense': 789,\n",
       " 'helps': 790,\n",
       " 'pillow': 791,\n",
       " 'shower': 792,\n",
       " 'difference': 793,\n",
       " 'within': 794,\n",
       " 'thank': 795,\n",
       " 'bosch': 796,\n",
       " 'charger': 797,\n",
       " 'advertised': 798,\n",
       " 'apart': 799,\n",
       " 'straps': 800,\n",
       " 'played': 801,\n",
       " 'inch': 802,\n",
       " 'socks': 803,\n",
       " 'trip': 804,\n",
       " 'described': 805,\n",
       " 'trouble': 806,\n",
       " 'view': 807,\n",
       " 'mix': 808,\n",
       " 'red': 809,\n",
       " 'boring': 810,\n",
       " 'men': 811,\n",
       " 'professional': 812,\n",
       " 'wood': 813,\n",
       " 'boots': 814,\n",
       " 'holding': 815,\n",
       " 'driver': 816,\n",
       " 'later': 817,\n",
       " 'truly': 818,\n",
       " 'five': 819,\n",
       " 'body': 820,\n",
       " 'looked': 821,\n",
       " 'sitting': 822,\n",
       " 'basic': 823,\n",
       " 'loud': 824,\n",
       " 'eyes': 825,\n",
       " 'turned': 826,\n",
       " 'continue': 827,\n",
       " 'starts': 828,\n",
       " 'fiction': 829,\n",
       " 'card': 830,\n",
       " 'wash': 831,\n",
       " 'matter': 832,\n",
       " 'chance': 833,\n",
       " 'decent': 834,\n",
       " 'blades': 835,\n",
       " 'sex': 836,\n",
       " 'mini': 837,\n",
       " 'hair': 838,\n",
       " 'owned': 839,\n",
       " 'poor': 840,\n",
       " 'opening': 841,\n",
       " 'player': 842,\n",
       " 'opinion': 843,\n",
       " 'remove': 844,\n",
       " 'words': 845,\n",
       " 'pan': 846,\n",
       " 'steel': 847,\n",
       " 'heat': 848,\n",
       " 'moving': 849,\n",
       " 'stop': 850,\n",
       " 'expecting': 851,\n",
       " 'today': 852,\n",
       " 'party': 853,\n",
       " 'grandson': 854,\n",
       " 'page': 855,\n",
       " 'worn': 856,\n",
       " 'totally': 857,\n",
       " 'twist': 858,\n",
       " 'flashlight': 859,\n",
       " 'machine': 860,\n",
       " 'features': 861,\n",
       " 'bags': 862,\n",
       " 'happened': 863,\n",
       " 'fans': 864,\n",
       " 'due': 865,\n",
       " 'picky': 866,\n",
       " 'pages': 867,\n",
       " 'american': 868,\n",
       " 'nbsp': 869,\n",
       " 'rubber': 870,\n",
       " 'knew': 871,\n",
       " 'complete': 872,\n",
       " 'useful': 873,\n",
       " 'age': 874,\n",
       " 'sony': 875,\n",
       " 'sets': 876,\n",
       " 'write': 877,\n",
       " 'garage': 878,\n",
       " 'non': 879,\n",
       " 'local': 880,\n",
       " 'taste': 881,\n",
       " 'safe': 882,\n",
       " 'remember': 883,\n",
       " 'simply': 884,\n",
       " '100': 885,\n",
       " '11': 886,\n",
       " 'previous': 887,\n",
       " 'writer': 888,\n",
       " 'starting': 889,\n",
       " 'pay': 890,\n",
       " 'sad': 891,\n",
       " 'legs': 892,\n",
       " 'waist': 893,\n",
       " 'build': 894,\n",
       " 'cheaper': 895,\n",
       " 'realistic': 896,\n",
       " 'brands': 897,\n",
       " 'historical': 898,\n",
       " 'number': 899,\n",
       " 'human': 900,\n",
       " 'waste': 901,\n",
       " 'oh': 902,\n",
       " 'wanting': 903,\n",
       " 'normally': 904,\n",
       " 'worry': 905,\n",
       " 'cord': 906,\n",
       " 'tiny': 907,\n",
       " 'bulky': 908,\n",
       " 'against': 909,\n",
       " 'glass': 910,\n",
       " 'humor': 911,\n",
       " 'supposed': 912,\n",
       " 'waiting': 913,\n",
       " 'tree': 914,\n",
       " 'table': 915,\n",
       " 'cards': 916,\n",
       " 'belt': 917,\n",
       " 'variety': 918,\n",
       " 'imagine': 919,\n",
       " 'smooth': 920,\n",
       " 'service': 921,\n",
       " 'learning': 922,\n",
       " 'fairly': 923,\n",
       " 'pants': 924,\n",
       " 'happen': 925,\n",
       " 'summer': 926,\n",
       " 'please': 927,\n",
       " 'data': 928,\n",
       " 'group': 929,\n",
       " 'band': 930,\n",
       " 'travel': 931,\n",
       " 'sensitive': 932,\n",
       " 'throw': 933,\n",
       " 'otherwise': 934,\n",
       " 'quiet': 935,\n",
       " 'tank': 936,\n",
       " 'cast': 937,\n",
       " 'headphones': 938,\n",
       " 'portable': 939,\n",
       " 'lock': 940,\n",
       " 'face': 941,\n",
       " 'base': 942,\n",
       " 'hole': 943,\n",
       " 'sexy': 944,\n",
       " 'actors': 945,\n",
       " 'storage': 946,\n",
       " 'feeling': 947,\n",
       " 'adjust': 948,\n",
       " 'secure': 949,\n",
       " 'holes': 950,\n",
       " 'hear': 951,\n",
       " 'walk': 952,\n",
       " 'kindle': 953,\n",
       " 'assemble': 954,\n",
       " 'superb': 955,\n",
       " 'leather': 956,\n",
       " 'wow': 957,\n",
       " 'gloves': 958,\n",
       " 'drill': 959,\n",
       " 'wears': 960,\n",
       " 'trs': 961,\n",
       " 'remote': 962,\n",
       " 'noticed': 963,\n",
       " 'detail': 964,\n",
       " 'powerful': 965,\n",
       " 'seller': 966,\n",
       " 'plenty': 967,\n",
       " 'speakers': 968,\n",
       " 'volume': 969,\n",
       " 'stuck': 970,\n",
       " 'zipper': 971,\n",
       " 'heavier': 972,\n",
       " 'cups': 973,\n",
       " 'mouse': 974,\n",
       " 'wooden': 975,\n",
       " 'twice': 976,\n",
       " 'check': 977,\n",
       " 'save': 978,\n",
       " 'board': 979,\n",
       " 'guys': 980,\n",
       " '50': 981,\n",
       " 'aren': 982,\n",
       " 'choice': 983,\n",
       " 'sit': 984,\n",
       " 'chemistry': 985,\n",
       " 'flat': 986,\n",
       " 'art': 987,\n",
       " 'including': 988,\n",
       " 'ways': 989,\n",
       " 'classic': 990,\n",
       " 'office': 991,\n",
       " 'unfortunately': 992,\n",
       " 'straight': 993,\n",
       " 'sent': 994,\n",
       " 'screws': 995,\n",
       " 'hidden': 996,\n",
       " 'means': 997,\n",
       " 'girls': 998,\n",
       " 'early': 999,\n",
       " 'block': 1000,\n",
       " ...}"
      ]
     },
     "execution_count": 27,
     "metadata": {},
     "output_type": "execute_result"
    }
   ],
   "source": [
    "tokenizer.word_index"
   ]
  },
  {
   "cell_type": "code",
   "execution_count": null,
   "id": "7016fa77-5fa9-4e50-a187-e329b9d1d6ec",
   "metadata": {},
   "outputs": [
    {
     "name": "stdout",
     "output_type": "stream",
     "text": [
      "CPU times: total: 0 ns\n",
      "Wall time: 0 ns\n",
      "Total words: 40980\n"
     ]
    }
   ],
   "source": [
    "%time\n",
    "vocab_size=len(tokenizer.word_index)+1\n",
    "print(\"Total words:\" , vocab_size)"
   ]
  },
  {
   "cell_type": "markdown",
   "id": "653d7b83-036b-46e0-a991-d31608e18a62",
   "metadata": {},
   "source": [
    "* **Padding**"
   ]
  },
  {
   "cell_type": "code",
   "execution_count": null,
   "id": "72a58ee5-3480-4f33-b2a1-065d9bcc2e82",
   "metadata": {},
   "outputs": [],
   "source": [
    "for i in data.text:\n",
    "    textlengths=len(i.split())"
   ]
  },
  {
   "cell_type": "code",
   "execution_count": null,
   "id": "4c3be2ae-5ba1-48f4-bfd4-62080efebdb7",
   "metadata": {},
   "outputs": [
    {
     "data": {
      "text/plain": [
       "355"
      ]
     },
     "execution_count": 30,
     "metadata": {},
     "output_type": "execute_result"
    }
   ],
   "source": [
    "textlengths"
   ]
  },
  {
   "cell_type": "code",
   "execution_count": null,
   "id": "bb8b5417-cfeb-45ca-8eb5-68ac55ceddea",
   "metadata": {},
   "outputs": [
    {
     "data": {
      "text/plain": [
       "355.0"
      ]
     },
     "execution_count": 31,
     "metadata": {},
     "output_type": "execute_result"
    }
   ],
   "source": [
    "np.mean(textlengths)"
   ]
  },
  {
   "cell_type": "code",
   "execution_count": null,
   "id": "b8a84cf6-64c9-4252-8781-9ccc38ab8537",
   "metadata": {},
   "outputs": [
    {
     "name": "stdout",
     "output_type": "stream",
     "text": [
      "(40420, 300)\n"
     ]
    }
   ],
   "source": [
    "# Length of text to consider\n",
    "maxlengthtext=300\n",
    "X=pad_sequences(X,maxlengthtext)\n",
    "print(X.shape)"
   ]
  },
  {
   "cell_type": "code",
   "execution_count": null,
   "id": "e22e46bf-770f-4ec2-bb25-eb96ebfbab52",
   "metadata": {},
   "outputs": [
    {
     "data": {
      "text/plain": [
       "array([  0,   0,   0,   0,   0,   0,   0,   0,   0,   0,   0,   0,   0,\n",
       "         0,   0,   0,   0,   0,   0,   0,   0,   0,   0,   0,   0,   0,\n",
       "         0,   0,   0,   0,   0,   0,   0,   0,   0,   0,   0,   0,   0,\n",
       "         0,   0,   0,   0,   0,   0,   0,   0,   0,   0,   0,   0,   0,\n",
       "         0,   0,   0,   0,   0,   0,   0,   0,   0,   0,   0,   0,   0,\n",
       "         0,   0,   0,   0,   0,   0,   0,   0,   0,   0,   0,   0,   0,\n",
       "         0,   0,   0,   0,   0,   0,   0,   0,   0,   0,   0,   0,   0,\n",
       "         0,   0,   0,   0,   0,   0,   0,   0,   0,   0,   0,   0,   0,\n",
       "         0,   0,   0,   0,   0,   0,   0,   0,   0,   0,   0,   0,   0,\n",
       "         0,   0,   0,   0,   0,   0,   0,   0,   0,   0,   0,   0,   0,\n",
       "         0,   0,   0,   0,   0,   0,   0,   0,   0,   0,   0,   0,   0,\n",
       "         0,   0,   0,   0,   0,   0,   0,   0,   0,   0,   0,   0,   0,\n",
       "         0,   0,   0,   0,   0,   0,   0,   0,   0,   0,   0,   0,   0,\n",
       "         0,   0,   0,   0,   0,   0,   0,   0,   0,   0,   0,   0,   0,\n",
       "         0,   0,   0,   0,   0,   0,   0,   0,   0,   0,   0,   0,   0,\n",
       "         0,   0,   0,   0,   0,   0,   0,   0,   0,   0,   0,   0,   0,\n",
       "         0,   0,   0,   0,   0,   0,   0,   0,   0,   0,   0,   0,   0,\n",
       "         0,   0,   0,   0,   0,   0,   0,   0,   0,   0,   0,   0,   0,\n",
       "         0,   0,   0,   0,   0,   0,   0,   0,   0,   0,   0,   0,   0,\n",
       "         0,   0,   0,   0,   0,   0,   0,   0,   0,   0,   0,   0,   0,\n",
       "         0,   0,   0,   0,   0,   0,   0,   0,   0,   0,   0,   0,   0,\n",
       "         0,   0,   0,   0,   0,   0,   0,   0,   0,   0,   0,   0,   0,\n",
       "         0,  33,   8,  34,  97, 212,   4,  17, 127,   2,  33,   5,  17,\n",
       "       155])"
      ]
     },
     "execution_count": 33,
     "metadata": {},
     "output_type": "execute_result"
    }
   ],
   "source": [
    "X[0]"
   ]
  },
  {
   "cell_type": "markdown",
   "id": "2610ae95-923b-4002-91d7-a936ffff17bd",
   "metadata": {},
   "source": [
    "#### 3.Word embeddings"
   ]
  },
  {
   "cell_type": "code",
   "execution_count": null,
   "id": "ffd78817-3cb2-4cd5-93fd-eef2ec28a198",
   "metadata": {},
   "outputs": [],
   "source": [
    "import gensim"
   ]
  },
  {
   "cell_type": "markdown",
   "id": "5c42a22e-953d-4f05-95b5-a99930d0d1fe",
   "metadata": {},
   "source": [
    "* **Defining Model**"
   ]
  },
  {
   "cell_type": "code",
   "execution_count": null,
   "id": "294e23be-41c5-4c8f-a64b-8ac9da43ccac",
   "metadata": {},
   "outputs": [],
   "source": [
    "# word2vec Parameters\n",
    "W2V_SIZE=300\n",
    "W2V_WINDOW=5\n",
    "W2V_EPOCH=32\n",
    "W2V_MIN_COUNT=1"
   ]
  },
  {
   "cell_type": "code",
   "execution_count": null,
   "id": "b74ab2d9-0c18-4a7f-bb0a-c8d00ff18398",
   "metadata": {},
   "outputs": [],
   "source": [
    "w2v_model = gensim.models.word2vec.Word2Vec(vector_size=W2V_SIZE, window=W2V_WINDOW, min_count=W2V_MIN_COUNT, workers=8)"
   ]
  },
  {
   "cell_type": "code",
   "execution_count": null,
   "id": "a546ac14-7b2f-470e-88b2-a727ea9866a5",
   "metadata": {},
   "outputs": [
    {
     "name": "stdout",
     "output_type": "stream",
     "text": [
      "CPU times: total: 547 ms\n",
      "Wall time: 701 ms\n"
     ]
    }
   ],
   "source": [
    "%%time\n",
    "document_with_words=[_text.split() for _text in data.text]"
   ]
  },
  {
   "cell_type": "code",
   "execution_count": null,
   "id": "7d76dd76-949d-4794-845e-b66d5c8488bb",
   "metadata": {},
   "outputs": [
    {
     "data": {
      "text/plain": [
       "40420"
      ]
     },
     "execution_count": 38,
     "metadata": {},
     "output_type": "execute_result"
    }
   ],
   "source": [
    "len(document_with_words)"
   ]
  },
  {
   "cell_type": "markdown",
   "id": "6d1068f5-851f-4165-a39f-dd373213322e",
   "metadata": {},
   "source": [
    "* **Vocabulary Building**"
   ]
  },
  {
   "cell_type": "code",
   "execution_count": null,
   "id": "1d826a68-80b1-41fd-a6e6-372c5ec3b17b",
   "metadata": {},
   "outputs": [],
   "source": [
    "w2v_model.build_vocab(document_with_words)"
   ]
  },
  {
   "cell_type": "code",
   "execution_count": null,
   "id": "d3b0a597-1ebd-4e06-a91d-a8491f455664",
   "metadata": {},
   "outputs": [
    {
     "name": "stdout",
     "output_type": "stream",
     "text": [
      "W2Vec Vocab size: 40979\n"
     ]
    }
   ],
   "source": [
    "wv_words=list(w2v_model.wv.index_to_key)\n",
    "wv_vocab_size=len(wv_words)\n",
    "print(\"W2Vec Vocab size:\",wv_vocab_size)"
   ]
  },
  {
   "cell_type": "markdown",
   "id": "5a0d6b29-8969-4236-97f7-12bcbaa49e9e",
   "metadata": {},
   "source": [
    "* **Training Word2Vec for Word Embeddings**"
   ]
  },
  {
   "cell_type": "code",
   "execution_count": null,
   "id": "ebe9e69e-a4f0-4ec7-9e47-b404344bc532",
   "metadata": {},
   "outputs": [
    {
     "name": "stdout",
     "output_type": "stream",
     "text": [
      "CPU times: total: 6min 11s\n",
      "Wall time: 1min 31s\n"
     ]
    },
    {
     "data": {
      "text/plain": [
       "(62478270, 89727968)"
      ]
     },
     "execution_count": 41,
     "metadata": {},
     "output_type": "execute_result"
    }
   ],
   "source": [
    "%%time\n",
    "w2v_model.train(document_with_words,total_examples=len(document_with_words),epochs=W2V_EPOCH)"
   ]
  },
  {
   "cell_type": "code",
   "execution_count": null,
   "id": "49ae64ed-2a79-41f2-b4eb-ba3c0c97785d",
   "metadata": {},
   "outputs": [
    {
     "data": {
      "text/plain": [
       "array([-0.9343838 ,  1.5417063 , -0.3092251 , -1.5874343 ,  0.5736539 ,\n",
       "        0.34915873,  1.4758911 ,  0.19531612,  0.71648306,  0.28973463,\n",
       "        0.46682614,  0.71165735,  0.3047982 , -0.2110059 , -0.07866424,\n",
       "       -0.93094593,  0.97046053, -0.90169924, -1.4323399 , -0.24344048,\n",
       "       -0.6603118 ,  0.28562415, -0.22421376,  0.97499347, -0.66931117,\n",
       "        1.5591447 ,  0.921768  , -1.1698439 ,  1.2183344 , -0.09755536,\n",
       "       -2.0823445 , -0.19440958, -1.0400598 , -0.81461364, -0.09823321,\n",
       "       -0.28345183,  0.92832416,  0.09325775, -0.6817446 ,  1.6165243 ,\n",
       "        0.28001896,  0.23936729,  1.2605183 , -1.3552829 , -1.3358922 ,\n",
       "        1.0157673 , -0.7905675 ,  0.58255285, -1.3915012 ,  0.11025988,\n",
       "       -0.7920746 ,  0.9656289 , -0.8757637 ,  0.77800876, -3.0521824 ,\n",
       "        0.74123454,  0.66779745,  0.7231871 ,  0.32113972,  0.1382144 ,\n",
       "       -0.39978015, -0.6001611 ,  0.09575054, -1.3618351 ,  1.1823379 ,\n",
       "       -0.26061887,  0.49568132,  0.2861932 ,  0.6140619 ,  1.754144  ,\n",
       "        0.6867653 ,  1.5445602 ,  3.1106634 , -1.0515428 ,  0.3768457 ,\n",
       "       -0.40749002, -0.16513713, -1.4155471 , -0.40028304,  0.21022303,\n",
       "       -0.04675952,  1.803302  ,  0.6910775 ,  0.3048959 ,  0.1910675 ,\n",
       "       -2.0079951 ,  0.7896769 ,  0.1029195 , -0.32386604, -0.8613085 ,\n",
       "       -0.86685026,  0.380761  , -1.3546929 , -0.5260242 ,  1.4501113 ,\n",
       "        0.06997269,  0.44037995,  1.0642908 , -0.29909518, -0.09237573,\n",
       "        0.4385459 ,  0.86570716, -0.1767826 ,  0.5777525 ,  1.0681849 ,\n",
       "        1.3881747 ,  0.70735085,  0.5772049 ,  0.3372689 , -0.17920001,\n",
       "       -0.64098   , -0.9700021 , -0.287429  ,  0.5251345 , -0.23496567,\n",
       "        1.1365511 , -0.0595555 , -0.6556099 ,  1.1712735 , -1.340775  ,\n",
       "       -0.23847194, -0.12738232,  0.9569825 ,  2.135991  , -0.32425773,\n",
       "        0.25607058,  0.12943824,  0.50696224,  0.34007767,  0.3663985 ,\n",
       "        0.8987763 , -1.2128979 , -2.180481  , -0.49288437,  0.36818597,\n",
       "        1.0160836 , -0.7426239 , -0.02511793, -1.314251  , -2.058434  ,\n",
       "       -0.59648246, -1.6645001 ,  0.5087136 ,  0.02244709,  0.7774851 ,\n",
       "        0.40211597,  0.5093604 ,  0.69770163, -0.33606198, -0.39997095,\n",
       "        1.1606715 , -0.66883475,  0.97356087, -0.10749409,  0.99480236,\n",
       "       -0.49100664, -1.0129119 ,  0.5125725 ,  1.037643  , -0.57175046,\n",
       "        0.70029604, -0.73860955,  0.591191  ,  1.8349944 , -1.0092919 ,\n",
       "       -0.55312204, -0.57145226, -0.646794  ,  0.21698073,  0.43744472,\n",
       "       -0.55125844, -1.4728765 , -0.05014718, -0.36119378, -0.27072647,\n",
       "       -0.3600976 ,  0.22840019, -0.21467142, -0.63428205,  0.4972061 ,\n",
       "       -0.6924907 , -0.43226853,  1.2266364 ,  0.26157904, -0.5220936 ,\n",
       "       -1.295079  , -0.8377774 , -0.06966624,  0.97636807, -2.054848  ,\n",
       "        1.1744757 ,  0.76714915,  0.18132691, -0.99971485,  1.214437  ,\n",
       "        1.4975373 ,  0.33519676,  0.5745776 ,  0.95347637, -0.36332962,\n",
       "       -0.297142  , -1.9299695 , -0.5606014 , -1.609579  ,  0.5496383 ,\n",
       "        0.1401015 ,  0.762869  , -1.5418499 , -0.69050074, -0.01698676,\n",
       "       -1.1930982 , -0.46356428, -1.0165373 ,  0.22739507,  0.5517277 ,\n",
       "       -0.11611678, -0.16461284, -1.6368864 ,  0.4465084 , -0.6521457 ,\n",
       "        0.10271015,  1.018538  ,  0.57997835, -0.07234191, -1.6755667 ,\n",
       "       -0.11211031, -0.28179303,  0.614774  ,  1.2268708 ,  0.916118  ,\n",
       "        0.3326176 , -0.03342305, -0.5115748 , -0.8786822 , -0.633234  ,\n",
       "       -1.1526233 ,  0.39306578, -0.24146609, -1.3455421 , -1.2371197 ,\n",
       "       -0.715209  ,  1.6799153 ,  1.4906646 ,  1.0611763 , -1.1336744 ,\n",
       "       -0.7087127 ,  0.45807645, -0.08418569, -0.8399541 , -0.39532807,\n",
       "        0.19512098, -0.2241738 , -0.8411372 , -0.3965809 , -0.8942871 ,\n",
       "       -0.7226207 ,  1.1914679 , -0.6323885 ,  0.6569372 , -0.3417822 ,\n",
       "        1.1577973 , -0.18598004, -0.64902884,  0.45198414,  2.379301  ,\n",
       "       -0.72720337,  0.12026967,  0.8722955 , -0.09678129,  0.09906498,\n",
       "        0.37414908,  0.59048486, -0.15699376,  0.2824555 ,  0.525255  ,\n",
       "        0.8895523 , -0.4012217 ,  0.4430587 ,  1.1352546 , -0.0331066 ,\n",
       "        0.8306493 , -0.44702628,  0.86327976,  0.03960656,  0.4102679 ,\n",
       "        1.4950637 ,  0.05660815,  1.4989097 ,  1.5217818 , -0.23222607,\n",
       "        0.64721876,  0.23648958, -0.8123897 ,  0.5105476 ,  0.74461806,\n",
       "       -0.1731362 ,  0.365458  , -0.23829155,  1.6261336 , -1.5974253 ],\n",
       "      dtype=float32)"
      ]
     },
     "execution_count": 42,
     "metadata": {},
     "output_type": "execute_result"
    }
   ],
   "source": [
    "w2v_model.wv.get_vector('online')"
   ]
  },
  {
   "cell_type": "markdown",
   "id": "7665d5b0-78ba-4315-a082-0affc3bec6bf",
   "metadata": {},
   "source": [
    "#### 4.LSTM Model Building"
   ]
  },
  {
   "cell_type": "code",
   "execution_count": null,
   "id": "ad1d3349-7b10-405c-bc03-bd91d13aa4fc",
   "metadata": {},
   "outputs": [],
   "source": [
    "from sklearn.model_selection import train_test_split\n",
    "from sklearn.preprocessing import LabelEncoder\n",
    "from keras.utils import to_categorical\n",
    "from keras.models import Sequential\n",
    "from keras.layers import Activation, Dense, Dropout, Embedding,LSTM\n",
    "from keras.callbacks import ReduceLROnPlateau , EarlyStopping\n",
    "from sklearn.metrics import classification_report,confusion_matrix,accuracy_score"
   ]
  },
  {
   "cell_type": "code",
   "execution_count": null,
   "id": "f22038db-5d60-44a2-a496-836e9ad21144",
   "metadata": {},
   "outputs": [],
   "source": [
    "y=data['label']"
   ]
  },
  {
   "cell_type": "code",
   "execution_count": null,
   "id": "7af173d9-242d-4410-bbde-1d0eb98994ff",
   "metadata": {},
   "outputs": [],
   "source": [
    "x_train,x_test,y_train,y_test=train_test_split(X,y,test_size=0.2,random_state=123)"
   ]
  },
  {
   "cell_type": "code",
   "execution_count": null,
   "id": "2a4e0a5d-9f97-497c-bcdb-5c6e6896bb5b",
   "metadata": {},
   "outputs": [
    {
     "data": {
      "text/plain": [
       "array([[   0,    0,    0, ...,   96, 1863,   18],\n",
       "       [   0,    0,    0, ...,    2,   37,   58],\n",
       "       [   0,    0,    0, ...,  205,   10,   46],\n",
       "       ...,\n",
       "       [   0,    0,    0, ...,    3,  127,  111],\n",
       "       [   0,    0,    0, ...,   50,  267,  160],\n",
       "       [   0,    0,    0, ...,  109,   30,  798]])"
      ]
     },
     "execution_count": 46,
     "metadata": {},
     "output_type": "execute_result"
    }
   ],
   "source": [
    "x_train"
   ]
  },
  {
   "cell_type": "code",
   "execution_count": null,
   "id": "399fe14f-bea1-48d5-bbdc-56cc001af7c6",
   "metadata": {},
   "outputs": [],
   "source": [
    "le=LabelEncoder()\n",
    "y_train=le.fit_transform(y_train)"
   ]
  },
  {
   "cell_type": "code",
   "execution_count": null,
   "id": "eb3bfdec-5a47-44ae-a68e-dab88407a681",
   "metadata": {},
   "outputs": [],
   "source": [
    "y_train=to_categorical(y_train,num_classes=2,dtype='float32')"
   ]
  },
  {
   "cell_type": "markdown",
   "id": "07244323-8b4f-4ccc-99b6-284ed0d37ebe",
   "metadata": {},
   "source": [
    "* **Embedding Layer Design**"
   ]
  },
  {
   "cell_type": "code",
   "execution_count": null,
   "id": "bd7f34fd-b815-4178-877d-df92e685248c",
   "metadata": {},
   "outputs": [
    {
     "name": "stdout",
     "output_type": "stream",
     "text": [
      "(40980, 300)\n"
     ]
    }
   ],
   "source": [
    "embedding_matrix=np.zeros((vocab_size,W2V_SIZE))\n",
    "for word , i in tokenizer.word_index.items():\n",
    "    if word in w2v_model.wv:\n",
    "        embedding_matrix[i]=w2v_model.wv[word]\n",
    "print(embedding_matrix.shape)"
   ]
  },
  {
   "cell_type": "code",
   "execution_count": null,
   "id": "c210f0d3-f0c6-4d76-8dba-4f751c2076e4",
   "metadata": {},
   "outputs": [],
   "source": [
    "embedding_layer=Embedding(vocab_size,W2V_SIZE,weights=[embedding_matrix],input_length=maxlengthtext,trainable=False)"
   ]
  },
  {
   "cell_type": "markdown",
   "id": "b18d3a1c-ec19-4804-8e2d-f2dafb8a5ce4",
   "metadata": {},
   "source": [
    "* **LSTM Model**"
   ]
  },
  {
   "cell_type": "code",
   "execution_count": null,
   "id": "ad59acd2-0cf5-4974-81ef-fb9f7dda058e",
   "metadata": {},
   "outputs": [
    {
     "name": "stdout",
     "output_type": "stream",
     "text": [
      "Model: \"sequential\"\n",
      "_________________________________________________________________\n",
      " Layer (type)                Output Shape              Param #   \n",
      "=================================================================\n",
      " embedding (Embedding)       (None, 300, 300)          12294000  \n",
      "                                                                 \n",
      " dropout (Dropout)           (None, 300, 300)          0         \n",
      "                                                                 \n",
      " lstm (LSTM)                 (None, 100)               160400    \n",
      "                                                                 \n",
      " dense (Dense)               (None, 2)                 202       \n",
      "                                                                 \n",
      "=================================================================\n",
      "Total params: 12454602 (47.51 MB)\n",
      "Trainable params: 160602 (627.35 KB)\n",
      "Non-trainable params: 12294000 (46.90 MB)\n",
      "_________________________________________________________________\n"
     ]
    }
   ],
   "source": [
    "lstm=Sequential()\n",
    "lstm.add(embedding_layer)\n",
    "lstm.add(Dropout(0.5))\n",
    "lstm.add(LSTM(100,dropout=0.2,recurrent_dropout=0.2))\n",
    "lstm.add(Dense(2,activation='sigmoid'))\n",
    "lstm.summary()"
   ]
  },
  {
   "cell_type": "code",
   "execution_count": 8,
   "id": "b0bb0a37-afae-4d36-b1f6-8a72f1c5feae",
   "metadata": {},
   "outputs": [
    {
     "ename": "NameError",
     "evalue": "name 'lstm' is not defined",
     "output_type": "error",
     "traceback": [
      "\u001b[1;31m---------------------------------------------------------------------------\u001b[0m",
      "\u001b[1;31mNameError\u001b[0m                                 Traceback (most recent call last)",
      "Input \u001b[1;32mIn [8]\u001b[0m, in \u001b[0;36m<cell line: 1>\u001b[1;34m()\u001b[0m\n\u001b[1;32m----> 1\u001b[0m \u001b[43mlstm\u001b[49m\u001b[38;5;241m.\u001b[39mcompile(loss\u001b[38;5;241m=\u001b[39m\u001b[38;5;124m'\u001b[39m\u001b[38;5;124mbinary_crossentropy\u001b[39m\u001b[38;5;124m'\u001b[39m,optimizer\u001b[38;5;241m=\u001b[39m\u001b[38;5;124m'\u001b[39m\u001b[38;5;124madam\u001b[39m\u001b[38;5;124m'\u001b[39m,metrics\u001b[38;5;241m=\u001b[39m[\u001b[38;5;124m'\u001b[39m\u001b[38;5;124maccuracy\u001b[39m\u001b[38;5;124m'\u001b[39m])\n",
      "\u001b[1;31mNameError\u001b[0m: name 'lstm' is not defined"
     ]
    }
   ],
   "source": [
    "lstm.compile(loss='binary_crossentropy',optimizer='adam',metrics=['accuracy'])"
   ]
  },
  {
   "cell_type": "code",
   "execution_count": null,
   "id": "cf9ec7d4-21cb-4a43-b60e-2bb3013191fa",
   "metadata": {},
   "outputs": [],
   "source": [
    "callbacks=[ReduceLROnPlateau(monitor='val_loss',patience=5,cooldown=0),EarlyStopping(monitor='val_accuracy',min_delta=0.001,patience=5,verbose=1)]"
   ]
  },
  {
   "cell_type": "markdown",
   "id": "aad654b9-b2f1-40b1-aff8-b088b0065665",
   "metadata": {},
   "source": [
    "* **Training**"
   ]
  },
  {
   "cell_type": "code",
   "execution_count": null,
   "id": "1cf5932e-6c60-468e-9051-25dfad9adce7",
   "metadata": {},
   "outputs": [
    {
     "ename": "NameError",
     "evalue": "name 'lstm' is not defined",
     "output_type": "error",
     "traceback": [
      "\u001b[1;31m---------------------------------------------------------------------------\u001b[0m",
      "\u001b[1;31mNameError\u001b[0m                                 Traceback (most recent call last)",
      "File \u001b[1;32m<timed exec>:1\u001b[0m, in \u001b[0;36m<module>\u001b[1;34m\u001b[0m\n",
      "\u001b[1;31mNameError\u001b[0m: name 'lstm' is not defined"
     ]
    }
   ],
   "source": [
    "%%time\n",
    "history = lstm.fit(x_train, y_train,batch_size=10,epochs=10,validation_split=0.2,verbose=1,callbacks=callbacks,workers=2) "
   ]
  },
  {
   "cell_type": "markdown",
   "id": "8d3dc0d9-3514-4de3-bd0f-9a5d621c41e9",
   "metadata": {},
   "source": [
    "* **Evaluation**"
   ]
  },
  {
   "cell_type": "code",
   "execution_count": null,
   "id": "31bb7c0c-f257-45bb-9fc1-11172556c917",
   "metadata": {},
   "outputs": [
    {
     "ename": "NameError",
     "evalue": "name 'le' is not defined",
     "output_type": "error",
     "traceback": [
      "\u001b[1;31m---------------------------------------------------------------------------\u001b[0m",
      "\u001b[1;31mNameError\u001b[0m                                 Traceback (most recent call last)",
      "File \u001b[1;32m<timed exec>:1\u001b[0m, in \u001b[0;36m<module>\u001b[1;34m\u001b[0m\n",
      "\u001b[1;31mNameError\u001b[0m: name 'le' is not defined"
     ]
    }
   ],
   "source": [
    "%%time\n",
    "y_act = le.transform(y_test)\n",
    "y_act = to_categorical(y_act)\n",
    "score = lstm.evaluate(x_test, y_act, batch_size=10)\n",
    "print()\n",
    "print(\"ACCURACY:\",score[1])\n",
    "print(\"LOSS:\",score[0]) "
   ]
  },
  {
   "cell_type": "code",
   "execution_count": null,
   "id": "6795f5f4-c814-4fcc-8ab2-9c52f48cfb93",
   "metadata": {},
   "outputs": [],
   "source": [
    "acc = history.history['accuracy']\n",
    "val_acc = history.history['val_accuracy']\n",
    "loss = history.history['loss']\n",
    "val_loss = history.history['val_loss']\n",
    "epochs = range(len(acc))\n",
    "plt.plot(epochs, acc, 'b', label='Training acc')\n",
    "plt.plot(epochs, val_acc, 'r', label='Validation acc')\n",
    "plt.title('Training and validation accuracy')\n",
    "plt.legend()\n",
    "plt.figure()\n",
    "plt.plot(epochs, loss, 'b', label='Training loss')\n",
    "plt.plot(epochs, val_loss, 'r', label='Validation loss')\n",
    "plt.title('Training and validation loss')\n",
    "plt.legend()\n",
    "plt.show()"
   ]
  },
  {
   "cell_type": "code",
   "execution_count": null,
   "id": "e0a49a77-36d4-4c88-ac2a-73b853b1b165",
   "metadata": {},
   "outputs": [],
   "source": [
    "%%time\n",
    "y_pred = []\n",
    "scores = lstm.predict(x_test, verbose=1, batch_size=5)\n",
    "for i in range(len(scores)):\n",
    "    y_pred.append(np.argmax(scores[i]))"
   ]
  },
  {
   "cell_type": "markdown",
   "id": "8b852cb2-cf75-4418-bb5c-98ecf8d8b6ec",
   "metadata": {},
   "source": [
    "#### Real Time Prediction"
   ]
  },
  {
   "cell_type": "code",
   "execution_count": null,
   "id": "fb3d15da-e081-49c5-8b0c-8b109cdd1c72",
   "metadata": {},
   "outputs": [],
   "source": [
    "labels={0:'Original_Review',1:'Computer_Generated_Review'}"
   ]
  },
  {
   "cell_type": "code",
   "execution_count": null,
   "id": "05a3986b-5c59-42b9-9489-3843118f2abd",
   "metadata": {},
   "outputs": [],
   "source": [
    "def predict(text):\n",
    "    import time\n",
    "    start_at = time.time()\n",
    "    # Tokenize text\n",
    "    x_test = pad_sequences(tokenizer.texts_to_sequences([text]), maxlen=300)\n",
    "    # Predict\n",
    "    score = lstm.predict([x_test])\n",
    "    cl = np.argmax(score)\n",
    "    # Decode Prediction\n",
    "    label = labels[cl]\n",
    "    return {\"prediction\": cl, \"label\": label,\"elapsed_time\": time.time()-start_at} "
   ]
  },
  {
   "cell_type": "code",
   "execution_count": null,
   "id": "43c1d802-89d0-42eb-a1d1-ee7c0840af58",
   "metadata": {},
   "outputs": [],
   "source": [
    "predict('love this well made sturdy and very comfortable i love it very pretty')"
   ]
  },
  {
   "cell_type": "code",
   "execution_count": null,
   "id": "55cebb0d-d3c8-4c17-ac80-7ad5ef512bc2",
   "metadata": {},
   "outputs": [],
   "source": []
  }
 ],
 "metadata": {
  "kernelspec": {
   "display_name": "Python 3 (ipykernel)",
   "language": "python",
   "name": "python3"
  },
  "language_info": {
   "codemirror_mode": {
    "name": "ipython",
    "version": 3
   },
   "file_extension": ".py",
   "mimetype": "text/x-python",
   "name": "python",
   "nbconvert_exporter": "python",
   "pygments_lexer": "ipython3",
   "version": "3.10.11"
  }
 },
 "nbformat": 4,
 "nbformat_minor": 5
}
